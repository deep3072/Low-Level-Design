{
 "cells": [
  {
   "cell_type": "code",
   "execution_count": null,
   "metadata": {},
   "outputs": [],
   "source": []
  },
  {
   "cell_type": "markdown",
   "metadata": {},
   "source": [
    "### Attribute Lookup chain review"
   ]
  },
  {
   "cell_type": "code",
   "execution_count": 1,
   "metadata": {},
   "outputs": [],
   "source": [
    "class Child:\n",
    "    name = \"Liam\"\n",
    "    \n",
    "    def __init__(self, name):\n",
    "        self.name = name"
   ]
  },
  {
   "cell_type": "code",
   "execution_count": 2,
   "metadata": {},
   "outputs": [
    {
     "data": {
      "text/plain": [
       "mappingproxy({'__module__': '__main__',\n",
       "              'name': 'Liam',\n",
       "              '__init__': <function __main__.Child.__init__(self, name)>,\n",
       "              '__dict__': <attribute '__dict__' of 'Child' objects>,\n",
       "              '__weakref__': <attribute '__weakref__' of 'Child' objects>,\n",
       "              '__doc__': None})"
      ]
     },
     "execution_count": 2,
     "metadata": {},
     "output_type": "execute_result"
    }
   ],
   "source": [
    "Child.__dict__"
   ]
  },
  {
   "cell_type": "code",
   "execution_count": 3,
   "metadata": {},
   "outputs": [],
   "source": [
    "c = Child(\"Anthony\")"
   ]
  },
  {
   "cell_type": "code",
   "execution_count": 4,
   "metadata": {},
   "outputs": [
    {
     "data": {
      "text/plain": [
       "{'name': 'Anthony'}"
      ]
     },
     "execution_count": 4,
     "metadata": {},
     "output_type": "execute_result"
    }
   ],
   "source": [
    "c.__dict__"
   ]
  },
  {
   "cell_type": "code",
   "execution_count": 5,
   "metadata": {},
   "outputs": [
    {
     "data": {
      "text/plain": [
       "'Anthony'"
      ]
     },
     "execution_count": 5,
     "metadata": {},
     "output_type": "execute_result"
    }
   ],
   "source": [
    "c.name"
   ]
  },
  {
   "cell_type": "code",
   "execution_count": 6,
   "metadata": {},
   "outputs": [],
   "source": [
    "class Child:\n",
    "    name = \"Liam\"\n",
    "    \n",
    "    def __init__(self, name=None):\n",
    "        if name:\n",
    "            self.name = name"
   ]
  },
  {
   "cell_type": "code",
   "execution_count": 7,
   "metadata": {},
   "outputs": [],
   "source": [
    "c = Child()"
   ]
  },
  {
   "cell_type": "code",
   "execution_count": 9,
   "metadata": {},
   "outputs": [
    {
     "data": {
      "text/plain": [
       "{}"
      ]
     },
     "execution_count": 9,
     "metadata": {},
     "output_type": "execute_result"
    }
   ],
   "source": [
    "c.__dict__"
   ]
  },
  {
   "cell_type": "code",
   "execution_count": 8,
   "metadata": {},
   "outputs": [
    {
     "data": {
      "text/plain": [
       "'Liam'"
      ]
     },
     "execution_count": 8,
     "metadata": {},
     "output_type": "execute_result"
    }
   ],
   "source": [
    "c.name"
   ]
  },
  {
   "cell_type": "code",
   "execution_count": 22,
   "metadata": {},
   "outputs": [],
   "source": [
    "class GrandParent:\n",
    "    name = \"Robert\"\n",
    "\n",
    "class Parent(GrandParent):\n",
    "    # name = \"James\"\n",
    "    pass\n",
    "\n",
    "class Child(Parent):\n",
    "    # name = \"Liam\"\n",
    "    \n",
    "    def __init__(self, name=None):\n",
    "        if name:\n",
    "            self.name = name"
   ]
  },
  {
   "cell_type": "code",
   "execution_count": 23,
   "metadata": {},
   "outputs": [],
   "source": [
    "c = Child()"
   ]
  },
  {
   "cell_type": "code",
   "execution_count": 24,
   "metadata": {},
   "outputs": [
    {
     "data": {
      "text/plain": [
       "'Robert'"
      ]
     },
     "execution_count": 24,
     "metadata": {},
     "output_type": "execute_result"
    }
   ],
   "source": [
    "c.name"
   ]
  },
  {
   "cell_type": "markdown",
   "metadata": {},
   "source": [
    "### Descriptor Protocol"
   ]
  },
  {
   "cell_type": "code",
   "execution_count": null,
   "metadata": {},
   "outputs": [],
   "source": [
    "# protocols: contract between objects and py\n",
    "\n",
    "# the descriptor protocol:\n",
    "#     __get__()\n",
    "#     __set__()\n",
    "#     __delete__()"
   ]
  },
  {
   "cell_type": "code",
   "execution_count": 25,
   "metadata": {},
   "outputs": [],
   "source": [
    "class Descriptor:\n",
    "    def __get__(self, instance, owner):\n",
    "        pass\n",
    "    def __set__(self, instance, value):\n",
    "        pass\n",
    "    def __delete__(self, instance):\n",
    "        pass"
   ]
  },
  {
   "cell_type": "markdown",
   "metadata": {},
   "source": [
    "### Using a descriptor"
   ]
  },
  {
   "cell_type": "code",
   "execution_count": 2,
   "metadata": {},
   "outputs": [],
   "source": [
    "# target: define a PersonTable class that has a first_name attribute that is text of max 200 len \n",
    "# class PersonTable: # something like this\n",
    "#     first_name = TextField(200)"
   ]
  },
  {
   "cell_type": "code",
   "execution_count": 8,
   "metadata": {},
   "outputs": [],
   "source": [
    "class TextField:\n",
    "    def __init__(self, length) -> None:\n",
    "        self.length = length\n",
    "        \n",
    "    def __get__(self, instance, owner):\n",
    "        return self.value\n",
    "    \n",
    "    def __set__(self, instance, value):\n",
    "        if not type(value) == str:\n",
    "            raise TypeError(\"Value should be a string\")\n",
    "        \n",
    "        if len(value) > self.length:\n",
    "            raise ValueError(f\"Value cannot exceed {self.length} characters\")\n",
    "        \n",
    "        self.value = value\n",
    "        \n",
    "    def __delete__(self, instance):\n",
    "        pass"
   ]
  },
  {
   "cell_type": "code",
   "execution_count": 9,
   "metadata": {},
   "outputs": [],
   "source": [
    "class PersonTable:\n",
    "    first_name = TextField(200)"
   ]
  },
  {
   "cell_type": "code",
   "execution_count": 10,
   "metadata": {},
   "outputs": [],
   "source": [
    "p = PersonTable()"
   ]
  },
  {
   "cell_type": "code",
   "execution_count": 11,
   "metadata": {},
   "outputs": [],
   "source": [
    "p.first_name = 'a' * 3"
   ]
  },
  {
   "cell_type": "code",
   "execution_count": 12,
   "metadata": {},
   "outputs": [
    {
     "data": {
      "text/plain": [
       "'aaa'"
      ]
     },
     "execution_count": 12,
     "metadata": {},
     "output_type": "execute_result"
    }
   ],
   "source": [
    "p.first_name"
   ]
  },
  {
   "cell_type": "code",
   "execution_count": 21,
   "metadata": {},
   "outputs": [],
   "source": [
    "class TextField:\n",
    "    def __init__(self, length) -> None:\n",
    "        self.length = length\n",
    "        \n",
    "    def __get__(self, instance, owner):\n",
    "        return self.value\n",
    "    \n",
    "    def __set__(self, instance, value):\n",
    "        if not type(value) == str:\n",
    "            raise TypeError(\"Value should be a string\")\n",
    "        \n",
    "        if len(value) > self.length:\n",
    "            raise ValueError(f\"Value cannot exceed {self.length} characters\")\n",
    "        \n",
    "        self.value = value\n",
    "        \n",
    "    def __delete__(self, instance):\n",
    "        pass"
   ]
  },
  {
   "cell_type": "code",
   "execution_count": 22,
   "metadata": {},
   "outputs": [],
   "source": [
    "class PersonTable:\n",
    "    first_name = TextField(200)\n",
    "    \n",
    "    def __init__(self, first_name) -> None:\n",
    "        self.__dict__[\"first_name\"] = first_name"
   ]
  },
  {
   "cell_type": "code",
   "execution_count": 23,
   "metadata": {},
   "outputs": [],
   "source": [
    "p = PersonTable(\"Robbie\")\n",
    "\n",
    "p.first_name = \"Liam\""
   ]
  },
  {
   "cell_type": "code",
   "execution_count": 26,
   "metadata": {},
   "outputs": [
    {
     "data": {
      "text/plain": [
       "{'first_name': 'Robbie'}"
      ]
     },
     "execution_count": 26,
     "metadata": {},
     "output_type": "execute_result"
    }
   ],
   "source": [
    "p.__dict__ # in instance dictionary it has robbie which should be priority but below it gives liam as descriptors are now priority before instance dict attributes"
   ]
  },
  {
   "cell_type": "code",
   "execution_count": 27,
   "metadata": {},
   "outputs": [
    {
     "data": {
      "text/plain": [
       "'Liam'"
      ]
     },
     "execution_count": 27,
     "metadata": {},
     "output_type": "execute_result"
    }
   ],
   "source": [
    "p.first_name"
   ]
  },
  {
   "cell_type": "markdown",
   "metadata": {},
   "source": [
    "### Descriptor Storage"
   ]
  },
  {
   "cell_type": "code",
   "execution_count": 4,
   "metadata": {},
   "outputs": [],
   "source": [
    "class TextField:\n",
    "    def __init__(self, length) -> None:\n",
    "        self.length = length\n",
    "        \n",
    "    def __get__(self, instance, owner):\n",
    "        return self.value\n",
    "    \n",
    "    def __set__(self, instance, value):\n",
    "        if not type(value) == str:\n",
    "            raise TypeError(\"Value should be a string\")\n",
    "        \n",
    "        if len(value) > self.length:\n",
    "            raise ValueError(f\"Value cannot exceed {self.length} characters\")\n",
    "        \n",
    "        self.value = value\n",
    "        \n",
    "    def __delete__(self, instance):\n",
    "        pass\n",
    "    \n",
    "class PersonTable:\n",
    "    first_name = TextField(200)"
   ]
  },
  {
   "cell_type": "code",
   "execution_count": 5,
   "metadata": {},
   "outputs": [],
   "source": [
    "p1 = PersonTable()\n",
    "p2 = PersonTable()"
   ]
  },
  {
   "cell_type": "code",
   "execution_count": 7,
   "metadata": {},
   "outputs": [],
   "source": [
    "p1.first_name = \"Andrew\""
   ]
  },
  {
   "cell_type": "code",
   "execution_count": 9,
   "metadata": {},
   "outputs": [
    {
     "data": {
      "text/plain": [
       "'Andrew'"
      ]
     },
     "execution_count": 9,
     "metadata": {},
     "output_type": "execute_result"
    }
   ],
   "source": [
    "p2.first_name # changed for all the instances of persontable"
   ]
  },
  {
   "cell_type": "code",
   "execution_count": 1,
   "metadata": {},
   "outputs": [],
   "source": [
    "# way1\n",
    "class TextField:\n",
    "    def __init__(self, length) -> None:\n",
    "        self.length = length\n",
    "        self._data = {}\n",
    "        \n",
    "    def __get__(self, instance, owner):\n",
    "        return self._data.get(instance, None)\n",
    "    \n",
    "    def __set__(self, instance, value):\n",
    "        if not type(value) == str:\n",
    "            raise TypeError(\"Value should be a string\")\n",
    "        \n",
    "        if len(value) > self.length:\n",
    "            raise ValueError(f\"Value cannot exceed {self.length} characters\")\n",
    "        \n",
    "        # self.value = value\n",
    "        self._data[instance] = value\n",
    "        \n",
    "    def __delete__(self, instance):\n",
    "        pass\n",
    "    \n",
    "class PersonTable:\n",
    "    first_name = TextField(200)"
   ]
  },
  {
   "cell_type": "code",
   "execution_count": 2,
   "metadata": {},
   "outputs": [],
   "source": [
    "p1 = PersonTable()\n",
    "p2 = PersonTable()"
   ]
  },
  {
   "cell_type": "code",
   "execution_count": 3,
   "metadata": {},
   "outputs": [],
   "source": [
    "p1.first_name = \"Andrew\""
   ]
  },
  {
   "cell_type": "code",
   "execution_count": 5,
   "metadata": {},
   "outputs": [],
   "source": [
    "p2.first_name # now None"
   ]
  },
  {
   "cell_type": "code",
   "execution_count": 6,
   "metadata": {},
   "outputs": [],
   "source": [
    "p2.first_name = \"Bonnie\""
   ]
  },
  {
   "cell_type": "code",
   "execution_count": 7,
   "metadata": {},
   "outputs": [
    {
     "data": {
      "text/plain": [
       "'Bonnie'"
      ]
     },
     "execution_count": 7,
     "metadata": {},
     "output_type": "execute_result"
    }
   ],
   "source": [
    "p2.first_name"
   ]
  },
  {
   "cell_type": "code",
   "execution_count": 8,
   "metadata": {},
   "outputs": [
    {
     "data": {
      "text/plain": [
       "'Andrew'"
      ]
     },
     "execution_count": 8,
     "metadata": {},
     "output_type": "execute_result"
    }
   ],
   "source": [
    "p1.first_name # different"
   ]
  },
  {
   "cell_type": "markdown",
   "metadata": {},
   "source": [
    "### Even better: Instance Storage"
   ]
  },
  {
   "cell_type": "code",
   "execution_count": 35,
   "metadata": {},
   "outputs": [],
   "source": [
    "class TextField:\n",
    "    def __init__(self, length) -> None:\n",
    "        self.length = length\n",
    "        self._data = {}\n",
    "        \n",
    "    def __get__(self, instance, owner):\n",
    "        return instance.__dict__.get(\"text_field_value\")\n",
    "    \n",
    "    def __set__(self, instance, value):\n",
    "        if not type(value) == str:\n",
    "            raise TypeError(\"Value should be a string\")\n",
    "        \n",
    "        if len(value) > self.length:\n",
    "            raise ValueError(f\"Value cannot exceed {self.length} characters\")\n",
    "        \n",
    "        instance.__dict__[\"text_field_value\"] = value\n",
    "        \n",
    "    def __delete__(self, instance):\n",
    "        pass\n",
    "    \n",
    "class PersonTable:\n",
    "    first_name = TextField(200)"
   ]
  },
  {
   "cell_type": "code",
   "execution_count": 13,
   "metadata": {},
   "outputs": [],
   "source": [
    "p1  = PersonTable()\n",
    "p2 = PersonTable()"
   ]
  },
  {
   "cell_type": "code",
   "execution_count": 14,
   "metadata": {},
   "outputs": [],
   "source": [
    "p1.first_name = \"Andrew\""
   ]
  },
  {
   "cell_type": "code",
   "execution_count": 17,
   "metadata": {},
   "outputs": [
    {
     "data": {
      "text/plain": [
       "('Andrew', None)"
      ]
     },
     "execution_count": 17,
     "metadata": {},
     "output_type": "execute_result"
    }
   ],
   "source": [
    "p1.first_name, p2.first_name"
   ]
  },
  {
   "cell_type": "code",
   "execution_count": 18,
   "metadata": {},
   "outputs": [],
   "source": [
    "p2.first_name = \"Bonnie\""
   ]
  },
  {
   "cell_type": "code",
   "execution_count": 19,
   "metadata": {},
   "outputs": [
    {
     "data": {
      "text/plain": [
       "('Andrew', 'Bonnie')"
      ]
     },
     "execution_count": 19,
     "metadata": {},
     "output_type": "execute_result"
    }
   ],
   "source": [
    "p1.first_name, p2.first_name"
   ]
  },
  {
   "cell_type": "code",
   "execution_count": 21,
   "metadata": {},
   "outputs": [
    {
     "data": {
      "text/plain": [
       "({'text_field_value': 'Andrew'}, {'text_field_value': 'Bonnie'})"
      ]
     },
     "execution_count": 21,
     "metadata": {},
     "output_type": "execute_result"
    }
   ],
   "source": [
    "p1.__dict__, p2.__dict__"
   ]
  },
  {
   "cell_type": "code",
   "execution_count": 36,
   "metadata": {},
   "outputs": [],
   "source": [
    "# problem\n",
    "class PersonTable:\n",
    "    first_name = TextField(200)\n",
    "    last_name = TextField(100)"
   ]
  },
  {
   "cell_type": "code",
   "execution_count": 37,
   "metadata": {},
   "outputs": [],
   "source": [
    "p1 = PersonTable()"
   ]
  },
  {
   "cell_type": "code",
   "execution_count": 38,
   "metadata": {},
   "outputs": [],
   "source": [
    "p1.first_name = \"Andrew\"\n",
    "p1.last_name = \"Green\" "
   ]
  },
  {
   "cell_type": "code",
   "execution_count": 39,
   "metadata": {},
   "outputs": [
    {
     "data": {
      "text/plain": [
       "('Green', 'Green')"
      ]
     },
     "execution_count": 39,
     "metadata": {},
     "output_type": "execute_result"
    }
   ],
   "source": [
    "p1.first_name, p1.last_name # both points to same because constant key name "
   ]
  },
  {
   "cell_type": "code",
   "execution_count": 40,
   "metadata": {},
   "outputs": [
    {
     "data": {
      "text/plain": [
       "{'text_field_value': 'Green'}"
      ]
     },
     "execution_count": 40,
     "metadata": {},
     "output_type": "execute_result"
    }
   ],
   "source": [
    "p1.__dict__"
   ]
  },
  {
   "cell_type": "code",
   "execution_count": 28,
   "metadata": {},
   "outputs": [],
   "source": [
    "# Solution\n",
    "\n",
    "class TextField:\n",
    "    def __init__(self, length, field_name) -> None:\n",
    "        self.length = length\n",
    "        self.field_name = field_name\n",
    "        \n",
    "    def __get__(self, instance, owner):\n",
    "        return instance.__dict__.get(f\"TextField_{self.field_name}\")\n",
    "    \n",
    "    def __set__(self, instance, value):\n",
    "        if not type(value) == str:\n",
    "            raise TypeError(\"Value should be a string\")\n",
    "        \n",
    "        if len(value) > self.length:\n",
    "            raise ValueError(f\"Value cannot exceed {self.length} characters\")\n",
    "        \n",
    "        instance.__dict__[f\"TextField_{self.field_name}\"] = value\n",
    "        \n",
    "    def __delete__(self, instance):\n",
    "        pass"
   ]
  },
  {
   "cell_type": "code",
   "execution_count": 31,
   "metadata": {},
   "outputs": [],
   "source": [
    "class PersonTable:\n",
    "    first_name = TextField(200, \"first_name\")\n",
    "    last_name = TextField(100, \"last_name\")"
   ]
  },
  {
   "cell_type": "code",
   "execution_count": 32,
   "metadata": {},
   "outputs": [],
   "source": [
    "p1 = PersonTable()\n",
    "\n",
    "p1.first_name = \"Andrew\"\n",
    "p1.last_name = \"Green\" "
   ]
  },
  {
   "cell_type": "code",
   "execution_count": 33,
   "metadata": {},
   "outputs": [
    {
     "data": {
      "text/plain": [
       "('Andrew', 'Green')"
      ]
     },
     "execution_count": 33,
     "metadata": {},
     "output_type": "execute_result"
    }
   ],
   "source": [
    "p1.first_name, p1.last_name"
   ]
  },
  {
   "cell_type": "code",
   "execution_count": 34,
   "metadata": {},
   "outputs": [
    {
     "data": {
      "text/plain": [
       "{'TextField_first_name': 'Andrew', 'TextField_last_name': 'Green'}"
      ]
     },
     "execution_count": 34,
     "metadata": {},
     "output_type": "execute_result"
    }
   ],
   "source": [
    "p1.__dict__"
   ]
  },
  {
   "cell_type": "markdown",
   "metadata": {},
   "source": [
    "### Using __ set_name __"
   ]
  },
  {
   "cell_type": "code",
   "execution_count": 44,
   "metadata": {},
   "outputs": [],
   "source": [
    "class TextField:\n",
    "    def __init__(self, length) -> None:\n",
    "        self.length = length\n",
    "        \n",
    "    def __set_name__(self, owner, name):\n",
    "        # name is the name of class variable (\"first_name, last_name etc\")\n",
    "        self.name = name\n",
    "        \n",
    "    def __get__(self, instance, owner):\n",
    "        return instance.__dict__.get(f\"TextField_{self.name}\")\n",
    "    \n",
    "    def __set__(self, instance, value):\n",
    "        if not type(value) == str:\n",
    "            raise TypeError(\"Value should be a string\")\n",
    "        \n",
    "        if len(value) > self.length:\n",
    "            raise ValueError(f\"Value cannot exceed {self.length} characters\")\n",
    "        \n",
    "        instance.__dict__[f\"TextField_{self.name}\"] = value\n",
    "        \n",
    "    def __delete__(self, instance):\n",
    "        pass"
   ]
  },
  {
   "cell_type": "code",
   "execution_count": 46,
   "metadata": {},
   "outputs": [],
   "source": [
    "class PersonTable:\n",
    "    first_name = TextField(200) # because we have set_name dunder so we don't have overhead of giving field_name value\n",
    "    last_name = TextField(100)"
   ]
  },
  {
   "cell_type": "code",
   "execution_count": 49,
   "metadata": {},
   "outputs": [],
   "source": [
    "p1 = PersonTable()\n",
    "p1.first_name = \"Andrew\" \n",
    "p1.last_name = \"Green\""
   ]
  },
  {
   "cell_type": "code",
   "execution_count": 50,
   "metadata": {},
   "outputs": [
    {
     "data": {
      "text/plain": [
       "('Andrew', 'Green')"
      ]
     },
     "execution_count": 50,
     "metadata": {},
     "output_type": "execute_result"
    }
   ],
   "source": [
    "p1.first_name, p1.last_name"
   ]
  },
  {
   "cell_type": "markdown",
   "metadata": {},
   "source": [
    "### Trying up loose ends"
   ]
  },
  {
   "cell_type": "code",
   "execution_count": 73,
   "metadata": {},
   "outputs": [],
   "source": [
    "class TextField:\n",
    "    def __init__(self, length) -> None: # self-> represents the instance of this class\n",
    "        self.length = length\n",
    "        \n",
    "    def __set_name__(self, owner, name): # owner referes to the class that owns the descriptor (here persontable class is owner of this specific instances of descriptor(first_name, last_name))\n",
    "        self.name = name\n",
    "        \n",
    "    def __get__(self, instance, owner): # instance: instance from which the descriptor is used (p1, p2..)\n",
    "        print(instance)\n",
    "        print(owner)\n",
    "        if instance is None:\n",
    "            return self\n",
    "        return instance.__dict__.get(f\"TextField_{self.name}\")\n",
    "    \n",
    "    def __set__(self, instance, value):\n",
    "        if not type(value) == str:\n",
    "            raise TypeError(\"Value should be a string\")\n",
    "        \n",
    "        if len(value) > self.length:\n",
    "            raise ValueError(f\"Value cannot exceed {self.length} characters\")\n",
    "        \n",
    "        instance.__dict__[f\"TextField_{self.name}\"] = value\n",
    "        \n",
    "    def __delete__(self, instance):\n",
    "        del instance.__dict__[f\"TextField_{self.name}\"]"
   ]
  },
  {
   "cell_type": "code",
   "execution_count": 74,
   "metadata": {},
   "outputs": [],
   "source": [
    "class PersonTable:\n",
    "    first_name = TextField(200)\n",
    "    last_name = TextField(100)"
   ]
  },
  {
   "cell_type": "code",
   "execution_count": 75,
   "metadata": {},
   "outputs": [
    {
     "data": {
      "text/plain": [
       "mappingproxy({'__module__': '__main__',\n",
       "              'first_name': <__main__.TextField at 0x25498b98b10>,\n",
       "              'last_name': <__main__.TextField at 0x25498ab7c50>,\n",
       "              '__dict__': <attribute '__dict__' of 'PersonTable' objects>,\n",
       "              '__weakref__': <attribute '__weakref__' of 'PersonTable' objects>,\n",
       "              '__doc__': None})"
      ]
     },
     "execution_count": 75,
     "metadata": {},
     "output_type": "execute_result"
    }
   ],
   "source": [
    "PersonTable.__dict__"
   ]
  },
  {
   "cell_type": "code",
   "execution_count": 77,
   "metadata": {},
   "outputs": [
    {
     "name": "stdout",
     "output_type": "stream",
     "text": [
      "None\n",
      "<class '__main__.PersonTable'>\n"
     ]
    },
    {
     "data": {
      "text/plain": [
       "<__main__.TextField at 0x25498b98b10>"
      ]
     },
     "execution_count": 77,
     "metadata": {},
     "output_type": "execute_result"
    }
   ],
   "source": [
    "PersonTable.first_name"
   ]
  },
  {
   "cell_type": "code",
   "execution_count": 78,
   "metadata": {},
   "outputs": [],
   "source": [
    "p1 = PersonTable()\n",
    "p1.first_name = \"Andrew\""
   ]
  },
  {
   "cell_type": "code",
   "execution_count": 79,
   "metadata": {},
   "outputs": [
    {
     "name": "stdout",
     "output_type": "stream",
     "text": [
      "<__main__.PersonTable object at 0x0000025498AD3F90>\n",
      "<class '__main__.PersonTable'>\n"
     ]
    },
    {
     "data": {
      "text/plain": [
       "'Andrew'"
      ]
     },
     "execution_count": 79,
     "metadata": {},
     "output_type": "execute_result"
    }
   ],
   "source": [
    "p1.first_name"
   ]
  },
  {
   "cell_type": "code",
   "execution_count": 80,
   "metadata": {},
   "outputs": [],
   "source": [
    "del p1.first_name"
   ]
  },
  {
   "cell_type": "code",
   "execution_count": 81,
   "metadata": {},
   "outputs": [
    {
     "name": "stdout",
     "output_type": "stream",
     "text": [
      "<__main__.PersonTable object at 0x0000025498AD3F90>\n",
      "<class '__main__.PersonTable'>\n"
     ]
    }
   ],
   "source": [
    "p1.first_name"
   ]
  },
  {
   "cell_type": "markdown",
   "metadata": {},
   "source": [
    "### Non-data descriptor"
   ]
  },
  {
   "cell_type": "code",
   "execution_count": 2,
   "metadata": {},
   "outputs": [],
   "source": [
    "class TextField:\n",
    "    def __init__(self, length) -> None: # self-> represents the instance of this class\n",
    "        self.length = length\n",
    "        \n",
    "    def __set_name__(self, owner, name): # owner referes to the class that owns the descriptor (here persontable class is owner of this specific instances of descriptor(first_name, last_name))\n",
    "        self.name = name\n",
    "        \n",
    "    def __get__(self, instance, owner): # instance: instance from which the descriptor is used (p1, p2..)\n",
    "        print(instance)\n",
    "        print(owner)\n",
    "        if instance is None:\n",
    "            return self\n",
    "        return instance.__dict__.get(f\"TextField_{self.name}\")\n",
    "    \n",
    "    def __set__(self, instance, value):\n",
    "        if not type(value) == str:\n",
    "            raise TypeError(\"Value should be a string\")\n",
    "        \n",
    "        if len(value) > self.length:\n",
    "            raise ValueError(f\"Value cannot exceed {self.length} characters\")\n",
    "        \n",
    "        instance.__dict__[f\"TextField_{self.name}\"] = value\n",
    "        \n",
    "    def __delete__(self, instance):\n",
    "        del instance.__dict__[f\"TextField_{self.name}\"]"
   ]
  },
  {
   "cell_type": "code",
   "execution_count": 1,
   "metadata": {},
   "outputs": [],
   "source": [
    "from random import randint\n",
    "\n",
    "class LuckyNumber:\n",
    "    def __get__(self, instance, owner):\n",
    "        return randint(1, 100)"
   ]
  },
  {
   "cell_type": "code",
   "execution_count": 7,
   "metadata": {},
   "outputs": [],
   "source": [
    "class PersonTable:\n",
    "    first_name = TextField(200)\n",
    "    last_name = TextField(100)\n",
    "    personal_no = LuckyNumber() # non-data descriptor\n",
    "    \n",
    "    def __init__(self, personal_no) -> None:\n",
    "        self.personal_no = personal_no # instance attribute\n",
    "    \n",
    "p = PersonTable(personal_no=10000)"
   ]
  },
  {
   "cell_type": "code",
   "execution_count": 9,
   "metadata": {},
   "outputs": [
    {
     "data": {
      "text/plain": [
       "10000"
      ]
     },
     "execution_count": 9,
     "metadata": {},
     "output_type": "execute_result"
    }
   ],
   "source": [
    "p.personal_no # here instance dict takes precedence over __get__ of non-data descriptor"
   ]
  },
  {
   "cell_type": "code",
   "execution_count": 11,
   "metadata": {},
   "outputs": [
    {
     "data": {
      "text/plain": [
       "97"
      ]
     },
     "execution_count": 11,
     "metadata": {},
     "output_type": "execute_result"
    }
   ],
   "source": [
    "PersonTable.personal_no"
   ]
  },
  {
   "cell_type": "code",
   "execution_count": 12,
   "metadata": {},
   "outputs": [],
   "source": [
    "from random import randint\n",
    "\n",
    "class LuckyNumber: # make it as data descriptor\n",
    "    def __get__(self, instance, owner):\n",
    "        return randint(1, 100)\n",
    "    \n",
    "    def __set__(self, instance, value):\n",
    "        pass"
   ]
  },
  {
   "cell_type": "code",
   "execution_count": 13,
   "metadata": {},
   "outputs": [],
   "source": [
    "class PersonTable:\n",
    "    first_name = TextField(200)\n",
    "    last_name = TextField(100)\n",
    "    personal_no = LuckyNumber() # data descriptor\n",
    "    \n",
    "    def __init__(self, personal_no) -> None:\n",
    "        self.personal_no = personal_no # instance attribute\n",
    "    \n",
    "p = PersonTable(personal_no=10000)"
   ]
  },
  {
   "cell_type": "code",
   "execution_count": 14,
   "metadata": {},
   "outputs": [
    {
     "data": {
      "text/plain": [
       "98"
      ]
     },
     "execution_count": 14,
     "metadata": {},
     "output_type": "execute_result"
    }
   ],
   "source": [
    "p.personal_no # data descriptor takes precedence"
   ]
  },
  {
   "cell_type": "markdown",
   "metadata": {},
   "source": [
    "### Descriptors vs Properties"
   ]
  },
  {
   "cell_type": "code",
   "execution_count": 15,
   "metadata": {},
   "outputs": [],
   "source": [
    "class TextField:\n",
    "    def __init__(self, length) -> None: # self-> represents the instance of this class\n",
    "        self.length = length\n",
    "        \n",
    "    def __set_name__(self, owner, name): # owner referes to the class that owns the descriptor (here persontable class is owner of this specific instances of descriptor(first_name, last_name))\n",
    "        self.name = name\n",
    "        \n",
    "    def __get__(self, instance, owner): # instance: instance from which the descriptor is used (p1, p2..)\n",
    "        print(instance)\n",
    "        print(owner)\n",
    "        if instance is None:\n",
    "            return self\n",
    "        return instance.__dict__.get(f\"TextField_{self.name}\")\n",
    "    \n",
    "    def __set__(self, instance, value):\n",
    "        if not type(value) == str:\n",
    "            raise TypeError(\"Value should be a string\")\n",
    "        \n",
    "        if len(value) > self.length:\n",
    "            raise ValueError(f\"Value cannot exceed {self.length} characters\")\n",
    "        \n",
    "        instance.__dict__[f\"TextField_{self.name}\"] = value\n",
    "        \n",
    "    def __delete__(self, instance):\n",
    "        del instance.__dict__[f\"TextField_{self.name}\"]\n",
    "        \n",
    "class PersonTableWithDescriptor:\n",
    "    first_name = TextField(200)"
   ]
  },
  {
   "cell_type": "code",
   "execution_count": 17,
   "metadata": {},
   "outputs": [],
   "source": [
    "class PersonTableWithProps: # same implementation with properties\n",
    "    def __init__(self, first_name_length) -> None:\n",
    "        self._TextField_first_name = None\n",
    "        self.first_name_length = first_name_length\n",
    "        \n",
    "    @property\n",
    "    def first_name(self):\n",
    "        return self._TextField_first_name\n",
    "    \n",
    "    @first_name.setter\n",
    "    def first_name(self, value):\n",
    "        if not type(value) == str:\n",
    "            raise TypeError(f\"Value should be a string\")\n",
    "\n",
    "        if len(value) > self.first_name_length:\n",
    "            raise ValueError(f\"Value cannot exceed {self.first_name_length} characters\")\n",
    "        \n",
    "        self._TextField_first_name = value\n",
    "    \n",
    "    @first_name.deleter\n",
    "    def first_name(self):\n",
    "        del self._TextField_first_name"
   ]
  },
  {
   "cell_type": "code",
   "execution_count": 18,
   "metadata": {},
   "outputs": [],
   "source": [
    "p = PersonTableWithProps(200)"
   ]
  },
  {
   "cell_type": "code",
   "execution_count": 19,
   "metadata": {},
   "outputs": [
    {
     "ename": "TypeError",
     "evalue": "Value should be a string",
     "output_type": "error",
     "traceback": [
      "\u001b[1;31m---------------------------------------------------------------------------\u001b[0m",
      "\u001b[1;31mTypeError\u001b[0m                                 Traceback (most recent call last)",
      "Cell \u001b[1;32mIn[19], line 1\u001b[0m\n\u001b[1;32m----> 1\u001b[0m \u001b[43mp\u001b[49m\u001b[38;5;241;43m.\u001b[39;49m\u001b[43mfirst_name\u001b[49m \u001b[38;5;241m=\u001b[39m \u001b[38;5;241m2\u001b[39m\n",
      "Cell \u001b[1;32mIn[17], line 13\u001b[0m, in \u001b[0;36mPersonTableWithProps.first_name\u001b[1;34m(self, value)\u001b[0m\n\u001b[0;32m     10\u001b[0m \u001b[38;5;129m@first_name\u001b[39m\u001b[38;5;241m.\u001b[39msetter\n\u001b[0;32m     11\u001b[0m \u001b[38;5;28;01mdef\u001b[39;00m \u001b[38;5;21mfirst_name\u001b[39m(\u001b[38;5;28mself\u001b[39m, value):\n\u001b[0;32m     12\u001b[0m     \u001b[38;5;28;01mif\u001b[39;00m \u001b[38;5;129;01mnot\u001b[39;00m \u001b[38;5;28mtype\u001b[39m(value) \u001b[38;5;241m==\u001b[39m \u001b[38;5;28mstr\u001b[39m:\n\u001b[1;32m---> 13\u001b[0m         \u001b[38;5;28;01mraise\u001b[39;00m \u001b[38;5;167;01mTypeError\u001b[39;00m(\u001b[38;5;124mf\u001b[39m\u001b[38;5;124m\"\u001b[39m\u001b[38;5;124mValue should be a string\u001b[39m\u001b[38;5;124m\"\u001b[39m)\n\u001b[0;32m     15\u001b[0m     \u001b[38;5;28;01mif\u001b[39;00m \u001b[38;5;28mlen\u001b[39m(value) \u001b[38;5;241m>\u001b[39m \u001b[38;5;28mself\u001b[39m\u001b[38;5;241m.\u001b[39mfirst_name_length:\n\u001b[0;32m     16\u001b[0m         \u001b[38;5;28;01mraise\u001b[39;00m \u001b[38;5;167;01mValueError\u001b[39;00m(\u001b[38;5;124mf\u001b[39m\u001b[38;5;124m\"\u001b[39m\u001b[38;5;124mValue cannot exceed \u001b[39m\u001b[38;5;132;01m{\u001b[39;00m\u001b[38;5;28mself\u001b[39m\u001b[38;5;241m.\u001b[39mfirst_name_length\u001b[38;5;132;01m}\u001b[39;00m\u001b[38;5;124m characters\u001b[39m\u001b[38;5;124m\"\u001b[39m)\n",
      "\u001b[1;31mTypeError\u001b[0m: Value should be a string"
     ]
    }
   ],
   "source": [
    "p.first_name = 2"
   ]
  },
  {
   "cell_type": "code",
   "execution_count": 23,
   "metadata": {},
   "outputs": [
    {
     "ename": "ValueError",
     "evalue": "Value cannot exceed 200 characters",
     "output_type": "error",
     "traceback": [
      "\u001b[1;31m---------------------------------------------------------------------------\u001b[0m",
      "\u001b[1;31mValueError\u001b[0m                                Traceback (most recent call last)",
      "Cell \u001b[1;32mIn[23], line 1\u001b[0m\n\u001b[1;32m----> 1\u001b[0m \u001b[43mp\u001b[49m\u001b[38;5;241;43m.\u001b[39;49m\u001b[43mfirst_name\u001b[49m \u001b[38;5;241m=\u001b[39m \u001b[38;5;124m\"\u001b[39m\u001b[38;5;124ma\u001b[39m\u001b[38;5;124m\"\u001b[39m \u001b[38;5;241m*\u001b[39m \u001b[38;5;241m2000\u001b[39m \u001b[38;5;66;03m# similar working as descriptors\u001b[39;00m\n",
      "Cell \u001b[1;32mIn[17], line 16\u001b[0m, in \u001b[0;36mPersonTableWithProps.first_name\u001b[1;34m(self, value)\u001b[0m\n\u001b[0;32m     13\u001b[0m     \u001b[38;5;28;01mraise\u001b[39;00m \u001b[38;5;167;01mTypeError\u001b[39;00m(\u001b[38;5;124mf\u001b[39m\u001b[38;5;124m\"\u001b[39m\u001b[38;5;124mValue should be a string\u001b[39m\u001b[38;5;124m\"\u001b[39m)\n\u001b[0;32m     15\u001b[0m \u001b[38;5;28;01mif\u001b[39;00m \u001b[38;5;28mlen\u001b[39m(value) \u001b[38;5;241m>\u001b[39m \u001b[38;5;28mself\u001b[39m\u001b[38;5;241m.\u001b[39mfirst_name_length:\n\u001b[1;32m---> 16\u001b[0m     \u001b[38;5;28;01mraise\u001b[39;00m \u001b[38;5;167;01mValueError\u001b[39;00m(\u001b[38;5;124mf\u001b[39m\u001b[38;5;124m\"\u001b[39m\u001b[38;5;124mValue cannot exceed \u001b[39m\u001b[38;5;132;01m{\u001b[39;00m\u001b[38;5;28mself\u001b[39m\u001b[38;5;241m.\u001b[39mfirst_name_length\u001b[38;5;132;01m}\u001b[39;00m\u001b[38;5;124m characters\u001b[39m\u001b[38;5;124m\"\u001b[39m)\n\u001b[0;32m     18\u001b[0m \u001b[38;5;28mself\u001b[39m\u001b[38;5;241m.\u001b[39m_TextField_first_name \u001b[38;5;241m=\u001b[39m value\n",
      "\u001b[1;31mValueError\u001b[0m: Value cannot exceed 200 characters"
     ]
    }
   ],
   "source": [
    "p.first_name = \"a\" * 2000 # similar working as descriptors"
   ]
  },
  {
   "cell_type": "code",
   "execution_count": 24,
   "metadata": {},
   "outputs": [],
   "source": [
    "p.first_name = \"Andrew\" "
   ]
  },
  {
   "cell_type": "code",
   "execution_count": 27,
   "metadata": {},
   "outputs": [],
   "source": [
    "p.__dict__[\"first_name\"] = \"won't be reachable.\""
   ]
  },
  {
   "cell_type": "code",
   "execution_count": 28,
   "metadata": {},
   "outputs": [
    {
     "data": {
      "text/plain": [
       "{'_TextField_first_name': 'Andrew',\n",
       " 'first_name_length': 200,\n",
       " 'first_name': \"won't be reachable.\"}"
      ]
     },
     "execution_count": 28,
     "metadata": {},
     "output_type": "execute_result"
    }
   ],
   "source": [
    "p.__dict__"
   ]
  },
  {
   "cell_type": "code",
   "execution_count": 30,
   "metadata": {},
   "outputs": [
    {
     "data": {
      "text/plain": [
       "mappingproxy({'__module__': '__main__',\n",
       "              '__init__': <function __main__.PersonTableWithProps.__init__(self, first_name_length) -> None>,\n",
       "              'first_name': <property at 0x184ece99210>,\n",
       "              '__dict__': <attribute '__dict__' of 'PersonTableWithProps' objects>,\n",
       "              '__weakref__': <attribute '__weakref__' of 'PersonTableWithProps' objects>,\n",
       "              '__doc__': None})"
      ]
     },
     "execution_count": 30,
     "metadata": {},
     "output_type": "execute_result"
    }
   ],
   "source": [
    "PersonTableWithProps.__dict__"
   ]
  },
  {
   "cell_type": "code",
   "execution_count": 31,
   "metadata": {},
   "outputs": [
    {
     "data": {
      "text/plain": [
       "'Andrew'"
      ]
     },
     "execution_count": 31,
     "metadata": {},
     "output_type": "execute_result"
    }
   ],
   "source": [
    "p.first_name # properties are just like data descriptors when it comes to attribute lookup precedence"
   ]
  },
  {
   "cell_type": "code",
   "execution_count": 32,
   "metadata": {},
   "outputs": [],
   "source": [
    "# add two new fields\n",
    "# * last_name\n",
    "# * occupation"
   ]
  },
  {
   "cell_type": "code",
   "execution_count": 33,
   "metadata": {},
   "outputs": [],
   "source": [
    "class PersonTableWithProps:\n",
    "    def __init__(self, first_name_length, last_name_length, occupation_length) -> None:\n",
    "        self._TextField_first_name = None\n",
    "        self._TextField_last_name = None\n",
    "        self._TextField_occupation = None\n",
    "        \n",
    "        \n",
    "        self.first_name_length = first_name_length\n",
    "        self.last_name_length = last_name_length\n",
    "        self.occupation_length = occupation_length\n",
    "        \n",
    "    @property\n",
    "    def first_name(self):\n",
    "        return self._TextField_first_name\n",
    "    \n",
    "    @first_name.setter\n",
    "    def first_name(self, value):\n",
    "        if not type(value) == str:\n",
    "            raise TypeError(f\"Value should be a string\")\n",
    "\n",
    "        if len(value) > self.first_name_length:\n",
    "            raise ValueError(f\"Value cannot exceed {self.first_name_length} characters\")\n",
    "        \n",
    "        self._TextField_first_name = value\n",
    "    \n",
    "    @first_name.deleter\n",
    "    def first_name(self):\n",
    "        del self._TextField_first_name\n",
    "        \n",
    "    @property\n",
    "    def first_name(self): # change it to last_name\n",
    "        return self._TextField_first_name\n",
    "    \n",
    "    @first_name.setter\n",
    "    def first_name(self, value):\n",
    "        if not type(value) == str:\n",
    "            raise TypeError(f\"Value should be a string\")\n",
    "\n",
    "        if len(value) > self.first_name_length:\n",
    "            raise ValueError(f\"Value cannot exceed {self.first_name_length} characters\")\n",
    "        \n",
    "        self._TextField_first_name = value\n",
    "    \n",
    "    @first_name.deleter\n",
    "    def first_name(self):\n",
    "        del self._TextField_first_name\n",
    "        \n",
    "    @property\n",
    "    def first_name(self): # change it to occupation\n",
    "        return self._TextField_first_name\n",
    "    \n",
    "    @first_name.setter\n",
    "    def first_name(self, value):\n",
    "        if not type(value) == str:\n",
    "            raise TypeError(f\"Value should be a string\")\n",
    "\n",
    "        if len(value) > self.first_name_length:\n",
    "            raise ValueError(f\"Value cannot exceed {self.first_name_length} characters\")\n",
    "        \n",
    "        self._TextField_first_name = value\n",
    "    \n",
    "    @first_name.deleter\n",
    "    def first_name(self):\n",
    "        del self._TextField_first_name # huge changes for 3 fields"
   ]
  },
  {
   "cell_type": "code",
   "execution_count": 35,
   "metadata": {},
   "outputs": [],
   "source": [
    "# while descriptors has only 2 lines\n",
    "\n",
    "class PersonTableWithDescriptor:# scalable\n",
    "    first_name = TextField(200)\n",
    "    last_name = TextField(200)\n",
    "    occupation = TextField(100)"
   ]
  },
  {
   "cell_type": "markdown",
   "metadata": {},
   "source": [
    "### Similarity"
   ]
  },
  {
   "cell_type": "code",
   "execution_count": 37,
   "metadata": {},
   "outputs": [],
   "source": [
    "class PersonTableWithProps:\n",
    "    def __init__(self, first_name_length) -> None:\n",
    "        self._TextField_first_name = None\n",
    "        self.first_name_length = first_name_length\n",
    "    \n",
    "    def get_first_name(self):\n",
    "        return self._TextField_first_name\n",
    "    \n",
    "    def set_first_name(self, value):\n",
    "        if not type(value) == str:\n",
    "            raise TypeError(f\"Value should be a string\")\n",
    "\n",
    "        if len(value) > self.first_name_length:\n",
    "            raise ValueError(f\"Value cannot exceed {self.first_name_length} characters\")\n",
    "        \n",
    "        self._TextField_first_name = value\n",
    "    \n",
    "    def del_first_name(self):\n",
    "        del self._TextField_first_name\n",
    "        \n",
    "    first_name = property(fget=get_first_name, fset=set_first_name, fdel=del_first_name) # similar syntax as descriptor below"
   ]
  },
  {
   "cell_type": "code",
   "execution_count": 38,
   "metadata": {},
   "outputs": [],
   "source": [
    "class PersonTable:\n",
    "    first_name = TextField(200)"
   ]
  },
  {
   "cell_type": "markdown",
   "metadata": {},
   "source": [
    "### Skill Challenge 11"
   ]
  },
  {
   "cell_type": "code",
   "execution_count": 1,
   "metadata": {},
   "outputs": [],
   "source": []
  },
  {
   "cell_type": "code",
   "execution_count": 48,
   "metadata": {},
   "outputs": [],
   "source": [
    "class SATScore:\n",
    "    def __init__(self, score=400):\n",
    "        self.score = score\n",
    "        \n",
    "    def __set_name__(self, owner, name):\n",
    "        self.name = name\n",
    "        \n",
    "    def __get__(self, instance, owner):\n",
    "        return instance.__dict__[f\"SATScore_{self.name}\"]\n",
    "    \n",
    "    def __set__(self, instance, value):\n",
    "        if not type(value) == int:\n",
    "            raise TypeError(\"Score should be int only!\")\n",
    "        \n",
    "        if not 400 <= value <= 1600:\n",
    "            raise ValueError(\"Invalid score. Score should be in range of 400 to 1600 only\")\n",
    "        \n",
    "        instance.__dict__[f\"SATScore_{self.name}\"] = value"
   ]
  },
  {
   "cell_type": "code",
   "execution_count": 49,
   "metadata": {},
   "outputs": [],
   "source": [
    "class GREScore:\n",
    "    def __init__(self, score=130):\n",
    "        self.score = score\n",
    "        \n",
    "    def __set_name__(self, owner, name):\n",
    "        self.name = name\n",
    "        \n",
    "    def __get__(self, instance, owner): # if descriptor is accessed from a class. instance is none. so check that.\n",
    "        if instance is None:\n",
    "            return self\n",
    "        \n",
    "        return instance.__dict__[f\"GREScore_{self.name}\"]\n",
    "    \n",
    "    def __set__(self, instance, value):\n",
    "        if not type(value) == int:\n",
    "            raise TypeError(\"Score should be int only!\")\n",
    "        \n",
    "        if not 130 <= value < 340:\n",
    "            raise ValueError(\"Invalid score. Score should be in range of 130 to 340 only\")\n",
    "        \n",
    "        instance.__dict__[f\"GREScore_{self.name}\"] = value"
   ]
  },
  {
   "cell_type": "code",
   "execution_count": 50,
   "metadata": {},
   "outputs": [],
   "source": [
    "class StudentProfile:\n",
    "    sat = SATScore()\n",
    "    gre = GREScore()\n",
    "    \n",
    "    def __init__(self, name, sat=400, gre=130) -> None:\n",
    "        self.name = name\n",
    "        self.sat = sat # here the value comes to instance dict but as we have descriptor already named as sat so it takes precedence and __get__ is called in SATScore and sat is passed as value\n",
    "        self.gre = gre\n",
    "        \n",
    "    def __repr__(self) -> str:\n",
    "        return f\"{type(self).__name__}(name='{self.name}', sat={self.sat}, gre={self.gre})\"\n",
    "    "
   ]
  },
  {
   "cell_type": "code",
   "execution_count": 51,
   "metadata": {},
   "outputs": [],
   "source": [
    "sp = StudentProfile(name=\"Andrew\", sat=1220, gre=131)"
   ]
  },
  {
   "cell_type": "code",
   "execution_count": 52,
   "metadata": {},
   "outputs": [
    {
     "data": {
      "text/plain": [
       "StudentProfile(name='Andrew', sat=1220, gre=131)"
      ]
     },
     "execution_count": 52,
     "metadata": {},
     "output_type": "execute_result"
    }
   ],
   "source": [
    "sp"
   ]
  },
  {
   "cell_type": "code",
   "execution_count": 53,
   "metadata": {},
   "outputs": [
    {
     "data": {
      "text/plain": [
       "131"
      ]
     },
     "execution_count": 53,
     "metadata": {},
     "output_type": "execute_result"
    }
   ],
   "source": [
    "sp.gre"
   ]
  },
  {
   "cell_type": "code",
   "execution_count": 54,
   "metadata": {},
   "outputs": [
    {
     "data": {
      "text/plain": [
       "1220"
      ]
     },
     "execution_count": 54,
     "metadata": {},
     "output_type": "execute_result"
    }
   ],
   "source": [
    "sp.sat"
   ]
  },
  {
   "cell_type": "code",
   "execution_count": 39,
   "metadata": {},
   "outputs": [
    {
     "ename": "ValueError",
     "evalue": "Invalid score. Score should be in range of 400 to 1600 only",
     "output_type": "error",
     "traceback": [
      "\u001b[1;31m---------------------------------------------------------------------------\u001b[0m",
      "\u001b[1;31mValueError\u001b[0m                                Traceback (most recent call last)",
      "Cell \u001b[1;32mIn[39], line 1\u001b[0m\n\u001b[1;32m----> 1\u001b[0m \u001b[43msp\u001b[49m\u001b[38;5;241;43m.\u001b[39;49m\u001b[43msat\u001b[49m \u001b[38;5;241m=\u001b[39m \u001b[38;5;241m200\u001b[39m\n",
      "Cell \u001b[1;32mIn[25], line 16\u001b[0m, in \u001b[0;36mSATScore.__set__\u001b[1;34m(self, instance, value)\u001b[0m\n\u001b[0;32m     13\u001b[0m     \u001b[38;5;28;01mraise\u001b[39;00m \u001b[38;5;167;01mTypeError\u001b[39;00m(\u001b[38;5;124m\"\u001b[39m\u001b[38;5;124mScore should be int only!\u001b[39m\u001b[38;5;124m\"\u001b[39m)\n\u001b[0;32m     15\u001b[0m \u001b[38;5;28;01mif\u001b[39;00m \u001b[38;5;129;01mnot\u001b[39;00m \u001b[38;5;241m400\u001b[39m \u001b[38;5;241m<\u001b[39m\u001b[38;5;241m=\u001b[39m value \u001b[38;5;241m<\u001b[39m \u001b[38;5;241m1600\u001b[39m:\n\u001b[1;32m---> 16\u001b[0m     \u001b[38;5;28;01mraise\u001b[39;00m \u001b[38;5;167;01mValueError\u001b[39;00m(\u001b[38;5;124m\"\u001b[39m\u001b[38;5;124mInvalid score. Score should be in range of 400 to 1600 only\u001b[39m\u001b[38;5;124m\"\u001b[39m)\n\u001b[0;32m     18\u001b[0m instance\u001b[38;5;241m.\u001b[39m\u001b[38;5;18m__dict__\u001b[39m[\u001b[38;5;124mf\u001b[39m\u001b[38;5;124m\"\u001b[39m\u001b[38;5;132;01m{\u001b[39;00m\u001b[38;5;28mtype\u001b[39m(\u001b[38;5;28mself\u001b[39m\u001b[38;5;241m.\u001b[39mname)\u001b[38;5;132;01m}\u001b[39;00m\u001b[38;5;124m_\u001b[39m\u001b[38;5;132;01m{\u001b[39;00m\u001b[38;5;28mself\u001b[39m\u001b[38;5;241m.\u001b[39mname\u001b[38;5;132;01m}\u001b[39;00m\u001b[38;5;124m\"\u001b[39m] \u001b[38;5;241m=\u001b[39m \u001b[38;5;28mself\u001b[39m\u001b[38;5;241m.\u001b[39mscore\n",
      "\u001b[1;31mValueError\u001b[0m: Invalid score. Score should be in range of 400 to 1600 only"
     ]
    }
   ],
   "source": [
    "sp.sat = 200"
   ]
  },
  {
   "cell_type": "code",
   "execution_count": 40,
   "metadata": {},
   "outputs": [
    {
     "ename": "TypeError",
     "evalue": "Score should be int only!",
     "output_type": "error",
     "traceback": [
      "\u001b[1;31m---------------------------------------------------------------------------\u001b[0m",
      "\u001b[1;31mTypeError\u001b[0m                                 Traceback (most recent call last)",
      "Cell \u001b[1;32mIn[40], line 1\u001b[0m\n\u001b[1;32m----> 1\u001b[0m \u001b[43msp\u001b[49m\u001b[38;5;241;43m.\u001b[39;49m\u001b[43mgre\u001b[49m \u001b[38;5;241m=\u001b[39m \u001b[38;5;241m2.2\u001b[39m\n",
      "Cell \u001b[1;32mIn[32], line 16\u001b[0m, in \u001b[0;36mGREScore.__set__\u001b[1;34m(self, instance, value)\u001b[0m\n\u001b[0;32m     14\u001b[0m \u001b[38;5;28;01mdef\u001b[39;00m \u001b[38;5;21m__set__\u001b[39m(\u001b[38;5;28mself\u001b[39m, instance, value):\n\u001b[0;32m     15\u001b[0m     \u001b[38;5;28;01mif\u001b[39;00m \u001b[38;5;129;01mnot\u001b[39;00m \u001b[38;5;28mtype\u001b[39m(value) \u001b[38;5;241m==\u001b[39m \u001b[38;5;28mint\u001b[39m:\n\u001b[1;32m---> 16\u001b[0m         \u001b[38;5;28;01mraise\u001b[39;00m \u001b[38;5;167;01mTypeError\u001b[39;00m(\u001b[38;5;124m\"\u001b[39m\u001b[38;5;124mScore should be int only!\u001b[39m\u001b[38;5;124m\"\u001b[39m)\n\u001b[0;32m     18\u001b[0m     \u001b[38;5;28;01mif\u001b[39;00m \u001b[38;5;129;01mnot\u001b[39;00m \u001b[38;5;241m130\u001b[39m \u001b[38;5;241m<\u001b[39m\u001b[38;5;241m=\u001b[39m value \u001b[38;5;241m<\u001b[39m \u001b[38;5;241m340\u001b[39m:\n\u001b[0;32m     19\u001b[0m         \u001b[38;5;28;01mraise\u001b[39;00m \u001b[38;5;167;01mValueError\u001b[39;00m(\u001b[38;5;124m\"\u001b[39m\u001b[38;5;124mInvalid score. Score should be in range of 130 to 340 only\u001b[39m\u001b[38;5;124m\"\u001b[39m)\n",
      "\u001b[1;31mTypeError\u001b[0m: Score should be int only!"
     ]
    }
   ],
   "source": [
    "sp.gre = 2.2"
   ]
  },
  {
   "cell_type": "code",
   "execution_count": 41,
   "metadata": {},
   "outputs": [
    {
     "ename": "TypeError",
     "evalue": "Score should be int only!",
     "output_type": "error",
     "traceback": [
      "\u001b[1;31m---------------------------------------------------------------------------\u001b[0m",
      "\u001b[1;31mTypeError\u001b[0m                                 Traceback (most recent call last)",
      "Cell \u001b[1;32mIn[41], line 1\u001b[0m\n\u001b[1;32m----> 1\u001b[0m \u001b[43msp\u001b[49m\u001b[38;5;241;43m.\u001b[39;49m\u001b[43msat\u001b[49m \u001b[38;5;241m=\u001b[39m \u001b[38;5;124m\"\u001b[39m\u001b[38;5;124maab\u001b[39m\u001b[38;5;124m\"\u001b[39m\n",
      "Cell \u001b[1;32mIn[25], line 13\u001b[0m, in \u001b[0;36mSATScore.__set__\u001b[1;34m(self, instance, value)\u001b[0m\n\u001b[0;32m     11\u001b[0m \u001b[38;5;28;01mdef\u001b[39;00m \u001b[38;5;21m__set__\u001b[39m(\u001b[38;5;28mself\u001b[39m, instance, value):\n\u001b[0;32m     12\u001b[0m     \u001b[38;5;28;01mif\u001b[39;00m \u001b[38;5;129;01mnot\u001b[39;00m \u001b[38;5;28mtype\u001b[39m(value) \u001b[38;5;241m==\u001b[39m \u001b[38;5;28mint\u001b[39m:\n\u001b[1;32m---> 13\u001b[0m         \u001b[38;5;28;01mraise\u001b[39;00m \u001b[38;5;167;01mTypeError\u001b[39;00m(\u001b[38;5;124m\"\u001b[39m\u001b[38;5;124mScore should be int only!\u001b[39m\u001b[38;5;124m\"\u001b[39m)\n\u001b[0;32m     15\u001b[0m     \u001b[38;5;28;01mif\u001b[39;00m \u001b[38;5;129;01mnot\u001b[39;00m \u001b[38;5;241m400\u001b[39m \u001b[38;5;241m<\u001b[39m\u001b[38;5;241m=\u001b[39m value \u001b[38;5;241m<\u001b[39m \u001b[38;5;241m1600\u001b[39m:\n\u001b[0;32m     16\u001b[0m         \u001b[38;5;28;01mraise\u001b[39;00m \u001b[38;5;167;01mValueError\u001b[39;00m(\u001b[38;5;124m\"\u001b[39m\u001b[38;5;124mInvalid score. Score should be in range of 400 to 1600 only\u001b[39m\u001b[38;5;124m\"\u001b[39m)\n",
      "\u001b[1;31mTypeError\u001b[0m: Score should be int only!"
     ]
    }
   ],
   "source": [
    "sp.sat = \"aab\""
   ]
  },
  {
   "cell_type": "code",
   "execution_count": null,
   "metadata": {},
   "outputs": [],
   "source": []
  },
  {
   "cell_type": "markdown",
   "metadata": {},
   "source": [
    "### Only 1 descriptor"
   ]
  },
  {
   "cell_type": "code",
   "execution_count": 63,
   "metadata": {},
   "outputs": [],
   "source": [
    "class ValidatedScore:\n",
    "    def __init__(self, score=400, score_name=None, min_score=400, max_score=1600):\n",
    "        self.score = score\n",
    "        self.score_name = score_name\n",
    "        self.min_score = min_score\n",
    "        self.max_score = max_score\n",
    "        \n",
    "    def __set_name__(self, owner, name):\n",
    "        self.name = name\n",
    "        \n",
    "    def __get__(self, instance, owner):\n",
    "        return instance.__dict__[f\"{self.score_name}_{self.name}\"]\n",
    "    \n",
    "    def __set__(self, instance, value):\n",
    "        if not type(value) == int:\n",
    "            raise TypeError(\"Score should be int only!\")\n",
    "        \n",
    "        if not self.min_score <= value <= self.max_score:\n",
    "            raise ValueError(f\"Invalid score. Score should be in range of {self.min_score} to {self.max_score} only\")\n",
    "        \n",
    "        instance.__dict__[f\"{self.score_name}_{self.name}\"] = value"
   ]
  },
  {
   "cell_type": "code",
   "execution_count": 64,
   "metadata": {},
   "outputs": [],
   "source": [
    "class SATScore(ValidatedScore):\n",
    "    def __init__(self, score=400):\n",
    "        super().__init__(score, score_name=self.__class__.__name__, min_score=400, max_score=1600)\n",
    "        \n",
    "class GREScore(ValidatedScore):\n",
    "    def __init__(self, score=130):\n",
    "        super().__init__(score, score_name=self.__class__.__name__, min_score=130, max_score=340)"
   ]
  },
  {
   "cell_type": "code",
   "execution_count": 65,
   "metadata": {},
   "outputs": [],
   "source": [
    "class StudentProfile:\n",
    "    sat = SATScore()\n",
    "    gre = GREScore()\n",
    "    \n",
    "    def __init__(self, name, sat=400, gre=130) -> None:\n",
    "        self.name = name\n",
    "        self.sat = sat\n",
    "        self.gre = gre\n",
    "        \n",
    "    def __repr__(self) -> str:\n",
    "        return f\"{type(self).__name__}(name='{self.name}', sat={self.sat}, gre={self.gre})\""
   ]
  },
  {
   "cell_type": "code",
   "execution_count": 66,
   "metadata": {},
   "outputs": [],
   "source": [
    "sp = StudentProfile(name=\"Andrew\", sat=1220, gre=131)"
   ]
  },
  {
   "cell_type": "code",
   "execution_count": 67,
   "metadata": {},
   "outputs": [
    {
     "data": {
      "text/plain": [
       "StudentProfile(name='Andrew', sat=1220, gre=131)"
      ]
     },
     "execution_count": 67,
     "metadata": {},
     "output_type": "execute_result"
    }
   ],
   "source": [
    "sp"
   ]
  },
  {
   "cell_type": "code",
   "execution_count": 68,
   "metadata": {},
   "outputs": [
    {
     "data": {
      "text/plain": [
       "1220"
      ]
     },
     "execution_count": 68,
     "metadata": {},
     "output_type": "execute_result"
    }
   ],
   "source": [
    "sp.sat"
   ]
  },
  {
   "cell_type": "code",
   "execution_count": 69,
   "metadata": {},
   "outputs": [
    {
     "data": {
      "text/plain": [
       "131"
      ]
     },
     "execution_count": 69,
     "metadata": {},
     "output_type": "execute_result"
    }
   ],
   "source": [
    "sp.gre"
   ]
  },
  {
   "cell_type": "code",
   "execution_count": 70,
   "metadata": {},
   "outputs": [
    {
     "ename": "ValueError",
     "evalue": "Invalid score. Score should be in range of 130 to 340 only",
     "output_type": "error",
     "traceback": [
      "\u001b[1;31m---------------------------------------------------------------------------\u001b[0m",
      "\u001b[1;31mValueError\u001b[0m                                Traceback (most recent call last)",
      "Cell \u001b[1;32mIn[70], line 1\u001b[0m\n\u001b[1;32m----> 1\u001b[0m \u001b[43msp\u001b[49m\u001b[38;5;241;43m.\u001b[39;49m\u001b[43mgre\u001b[49m \u001b[38;5;241m=\u001b[39m \u001b[38;5;241m120\u001b[39m\n",
      "Cell \u001b[1;32mIn[63], line 19\u001b[0m, in \u001b[0;36mValidatedScore.__set__\u001b[1;34m(self, instance, value)\u001b[0m\n\u001b[0;32m     16\u001b[0m     \u001b[38;5;28;01mraise\u001b[39;00m \u001b[38;5;167;01mTypeError\u001b[39;00m(\u001b[38;5;124m\"\u001b[39m\u001b[38;5;124mScore should be int only!\u001b[39m\u001b[38;5;124m\"\u001b[39m)\n\u001b[0;32m     18\u001b[0m \u001b[38;5;28;01mif\u001b[39;00m \u001b[38;5;129;01mnot\u001b[39;00m \u001b[38;5;28mself\u001b[39m\u001b[38;5;241m.\u001b[39mmin_score \u001b[38;5;241m<\u001b[39m\u001b[38;5;241m=\u001b[39m value \u001b[38;5;241m<\u001b[39m\u001b[38;5;241m=\u001b[39m \u001b[38;5;28mself\u001b[39m\u001b[38;5;241m.\u001b[39mmax_score:\n\u001b[1;32m---> 19\u001b[0m     \u001b[38;5;28;01mraise\u001b[39;00m \u001b[38;5;167;01mValueError\u001b[39;00m(\u001b[38;5;124mf\u001b[39m\u001b[38;5;124m\"\u001b[39m\u001b[38;5;124mInvalid score. Score should be in range of \u001b[39m\u001b[38;5;132;01m{\u001b[39;00m\u001b[38;5;28mself\u001b[39m\u001b[38;5;241m.\u001b[39mmin_score\u001b[38;5;132;01m}\u001b[39;00m\u001b[38;5;124m to \u001b[39m\u001b[38;5;132;01m{\u001b[39;00m\u001b[38;5;28mself\u001b[39m\u001b[38;5;241m.\u001b[39mmax_score\u001b[38;5;132;01m}\u001b[39;00m\u001b[38;5;124m only\u001b[39m\u001b[38;5;124m\"\u001b[39m)\n\u001b[0;32m     21\u001b[0m instance\u001b[38;5;241m.\u001b[39m\u001b[38;5;18m__dict__\u001b[39m[\u001b[38;5;124mf\u001b[39m\u001b[38;5;124m\"\u001b[39m\u001b[38;5;132;01m{\u001b[39;00m\u001b[38;5;28mself\u001b[39m\u001b[38;5;241m.\u001b[39mscore_name\u001b[38;5;132;01m}\u001b[39;00m\u001b[38;5;124m_\u001b[39m\u001b[38;5;132;01m{\u001b[39;00m\u001b[38;5;28mself\u001b[39m\u001b[38;5;241m.\u001b[39mname\u001b[38;5;132;01m}\u001b[39;00m\u001b[38;5;124m\"\u001b[39m] \u001b[38;5;241m=\u001b[39m value\n",
      "\u001b[1;31mValueError\u001b[0m: Invalid score. Score should be in range of 130 to 340 only"
     ]
    }
   ],
   "source": [
    "sp.gre = 120"
   ]
  },
  {
   "cell_type": "code",
   "execution_count": 71,
   "metadata": {},
   "outputs": [
    {
     "ename": "ValueError",
     "evalue": "Invalid score. Score should be in range of 400 to 1600 only",
     "output_type": "error",
     "traceback": [
      "\u001b[1;31m---------------------------------------------------------------------------\u001b[0m",
      "\u001b[1;31mValueError\u001b[0m                                Traceback (most recent call last)",
      "Cell \u001b[1;32mIn[71], line 1\u001b[0m\n\u001b[1;32m----> 1\u001b[0m \u001b[43msp\u001b[49m\u001b[38;5;241;43m.\u001b[39;49m\u001b[43msat\u001b[49m \u001b[38;5;241m=\u001b[39m \u001b[38;5;241m12222\u001b[39m\n",
      "Cell \u001b[1;32mIn[63], line 19\u001b[0m, in \u001b[0;36mValidatedScore.__set__\u001b[1;34m(self, instance, value)\u001b[0m\n\u001b[0;32m     16\u001b[0m     \u001b[38;5;28;01mraise\u001b[39;00m \u001b[38;5;167;01mTypeError\u001b[39;00m(\u001b[38;5;124m\"\u001b[39m\u001b[38;5;124mScore should be int only!\u001b[39m\u001b[38;5;124m\"\u001b[39m)\n\u001b[0;32m     18\u001b[0m \u001b[38;5;28;01mif\u001b[39;00m \u001b[38;5;129;01mnot\u001b[39;00m \u001b[38;5;28mself\u001b[39m\u001b[38;5;241m.\u001b[39mmin_score \u001b[38;5;241m<\u001b[39m\u001b[38;5;241m=\u001b[39m value \u001b[38;5;241m<\u001b[39m\u001b[38;5;241m=\u001b[39m \u001b[38;5;28mself\u001b[39m\u001b[38;5;241m.\u001b[39mmax_score:\n\u001b[1;32m---> 19\u001b[0m     \u001b[38;5;28;01mraise\u001b[39;00m \u001b[38;5;167;01mValueError\u001b[39;00m(\u001b[38;5;124mf\u001b[39m\u001b[38;5;124m\"\u001b[39m\u001b[38;5;124mInvalid score. Score should be in range of \u001b[39m\u001b[38;5;132;01m{\u001b[39;00m\u001b[38;5;28mself\u001b[39m\u001b[38;5;241m.\u001b[39mmin_score\u001b[38;5;132;01m}\u001b[39;00m\u001b[38;5;124m to \u001b[39m\u001b[38;5;132;01m{\u001b[39;00m\u001b[38;5;28mself\u001b[39m\u001b[38;5;241m.\u001b[39mmax_score\u001b[38;5;132;01m}\u001b[39;00m\u001b[38;5;124m only\u001b[39m\u001b[38;5;124m\"\u001b[39m)\n\u001b[0;32m     21\u001b[0m instance\u001b[38;5;241m.\u001b[39m\u001b[38;5;18m__dict__\u001b[39m[\u001b[38;5;124mf\u001b[39m\u001b[38;5;124m\"\u001b[39m\u001b[38;5;132;01m{\u001b[39;00m\u001b[38;5;28mself\u001b[39m\u001b[38;5;241m.\u001b[39mscore_name\u001b[38;5;132;01m}\u001b[39;00m\u001b[38;5;124m_\u001b[39m\u001b[38;5;132;01m{\u001b[39;00m\u001b[38;5;28mself\u001b[39m\u001b[38;5;241m.\u001b[39mname\u001b[38;5;132;01m}\u001b[39;00m\u001b[38;5;124m\"\u001b[39m] \u001b[38;5;241m=\u001b[39m value\n",
      "\u001b[1;31mValueError\u001b[0m: Invalid score. Score should be in range of 400 to 1600 only"
     ]
    }
   ],
   "source": [
    "sp.sat = 12222"
   ]
  },
  {
   "cell_type": "code",
   "execution_count": 72,
   "metadata": {},
   "outputs": [
    {
     "data": {
      "text/plain": [
       "{'name': 'Andrew', 'SATScore_sat': 1220, 'GREScore_gre': 131}"
      ]
     },
     "execution_count": 72,
     "metadata": {},
     "output_type": "execute_result"
    }
   ],
   "source": [
    "sp.__dict__"
   ]
  },
  {
   "cell_type": "code",
   "execution_count": null,
   "metadata": {},
   "outputs": [],
   "source": []
  }
 ],
 "metadata": {
  "kernelspec": {
   "display_name": "Python 3",
   "language": "python",
   "name": "python3"
  },
  "language_info": {
   "codemirror_mode": {
    "name": "ipython",
    "version": 3
   },
   "file_extension": ".py",
   "mimetype": "text/x-python",
   "name": "python",
   "nbconvert_exporter": "python",
   "pygments_lexer": "ipython3",
   "version": "3.11.9"
  }
 },
 "nbformat": 4,
 "nbformat_minor": 2
}
