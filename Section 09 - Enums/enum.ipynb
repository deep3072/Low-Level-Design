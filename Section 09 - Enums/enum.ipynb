{
 "cells": [
  {
   "cell_type": "code",
   "execution_count": null,
   "metadata": {},
   "outputs": [],
   "source": []
  },
  {
   "cell_type": "markdown",
   "metadata": {},
   "source": [
    "### Why enums?"
   ]
  },
  {
   "cell_type": "code",
   "execution_count": 1,
   "metadata": {},
   "outputs": [],
   "source": [
    "# static collection of values"
   ]
  },
  {
   "cell_type": "code",
   "execution_count": 4,
   "metadata": {},
   "outputs": [],
   "source": [
    "PARTIES = [\"CPC\", \"LPC\", \"BQ\", \"NDP\", \"GPC\"] # Conservative party of Canada, ..."
   ]
  },
  {
   "cell_type": "code",
   "execution_count": 6,
   "metadata": {},
   "outputs": [],
   "source": [
    "PARTIES = (\"CPC\", \"LPC\", \"BQ\", \"NDP\", \"GPC\")"
   ]
  },
  {
   "cell_type": "code",
   "execution_count": 7,
   "metadata": {},
   "outputs": [
    {
     "data": {
      "text/plain": [
       "'BQ'"
      ]
     },
     "execution_count": 7,
     "metadata": {},
     "output_type": "execute_result"
    }
   ],
   "source": [
    "PARTIES[2]"
   ]
  },
  {
   "cell_type": "code",
   "execution_count": 8,
   "metadata": {},
   "outputs": [
    {
     "name": "stdout",
     "output_type": "stream",
     "text": [
      "CPC\n",
      "LPC\n",
      "BQ\n",
      "NDP\n",
      "GPC\n"
     ]
    }
   ],
   "source": [
    "for party in PARTIES:\n",
    "    print(party)"
   ]
  },
  {
   "cell_type": "markdown",
   "metadata": {},
   "source": [
    "### Enumerations"
   ]
  },
  {
   "cell_type": "code",
   "execution_count": 9,
   "metadata": {},
   "outputs": [],
   "source": [
    "from enum import Enum"
   ]
  },
  {
   "cell_type": "code",
   "execution_count": 20,
   "metadata": {},
   "outputs": [],
   "source": [
    "class Parties(Enum):\n",
    "    CPC = \"Conservative Party of Canada\"\n",
    "    LPC = \"Liberal Party of Canada\"\n",
    "    BQ = \"Bloc Quebeqois\"\n",
    "    NDP = \"New Democratic Party\"\n",
    "    GBP = \"Green Party of Canada\""
   ]
  },
  {
   "cell_type": "code",
   "execution_count": 21,
   "metadata": {},
   "outputs": [
    {
     "data": {
      "text/plain": [
       "<Parties.CPC: 'Conservative Party of Canada'>"
      ]
     },
     "execution_count": 21,
     "metadata": {},
     "output_type": "execute_result"
    }
   ],
   "source": [
    "Parties.CPC"
   ]
  },
  {
   "cell_type": "code",
   "execution_count": 23,
   "metadata": {},
   "outputs": [
    {
     "name": "stdout",
     "output_type": "stream",
     "text": [
      "Parties.CPC\n",
      "Parties.LPC\n",
      "Parties.BQ\n",
      "Parties.NDP\n",
      "Parties.GBP\n"
     ]
    }
   ],
   "source": [
    "for party in Parties:\n",
    "    print(party)"
   ]
  },
  {
   "cell_type": "code",
   "execution_count": 24,
   "metadata": {},
   "outputs": [
    {
     "ename": "TypeError",
     "evalue": "'<' not supported between instances of 'Parties' and 'Parties'",
     "output_type": "error",
     "traceback": [
      "\u001b[1;31m---------------------------------------------------------------------------\u001b[0m",
      "\u001b[1;31mTypeError\u001b[0m                                 Traceback (most recent call last)",
      "Cell \u001b[1;32mIn[24], line 1\u001b[0m\n\u001b[1;32m----> 1\u001b[0m \u001b[38;5;28;43msorted\u001b[39;49m\u001b[43m(\u001b[49m\u001b[43mParties\u001b[49m\u001b[43m)\u001b[49m \u001b[38;5;66;03m# not sortable\u001b[39;00m\n",
      "\u001b[1;31mTypeError\u001b[0m: '<' not supported between instances of 'Parties' and 'Parties'"
     ]
    }
   ],
   "source": [
    "sorted(Parties) # enum is not sortable. because it does not define comparison operator by default other than eq"
   ]
  },
  {
   "cell_type": "code",
   "execution_count": 25,
   "metadata": {},
   "outputs": [
    {
     "ename": "AttributeError",
     "evalue": "cannot reassign member 'CPC'",
     "output_type": "error",
     "traceback": [
      "\u001b[1;31m---------------------------------------------------------------------------\u001b[0m",
      "\u001b[1;31mAttributeError\u001b[0m                            Traceback (most recent call last)",
      "Cell \u001b[1;32mIn[25], line 1\u001b[0m\n\u001b[1;32m----> 1\u001b[0m \u001b[43mParties\u001b[49m\u001b[38;5;241;43m.\u001b[39;49m\u001b[43mCPC\u001b[49m \u001b[38;5;241m=\u001b[39m \u001b[38;5;241m2\u001b[39m \u001b[38;5;66;03m# safe from mutation\u001b[39;00m\n",
      "File \u001b[1;32mc:\\Users\\smrut\\AppData\\Local\\Programs\\Python\\Python311\\Lib\\enum.py:838\u001b[0m, in \u001b[0;36mEnumType.__setattr__\u001b[1;34m(cls, name, value)\u001b[0m\n\u001b[0;32m    836\u001b[0m member_map \u001b[38;5;241m=\u001b[39m \u001b[38;5;28mcls\u001b[39m\u001b[38;5;241m.\u001b[39m\u001b[38;5;18m__dict__\u001b[39m\u001b[38;5;241m.\u001b[39mget(\u001b[38;5;124m'\u001b[39m\u001b[38;5;124m_member_map_\u001b[39m\u001b[38;5;124m'\u001b[39m, {})\n\u001b[0;32m    837\u001b[0m \u001b[38;5;28;01mif\u001b[39;00m name \u001b[38;5;129;01min\u001b[39;00m member_map:\n\u001b[1;32m--> 838\u001b[0m     \u001b[38;5;28;01mraise\u001b[39;00m \u001b[38;5;167;01mAttributeError\u001b[39;00m(\u001b[38;5;124m'\u001b[39m\u001b[38;5;124mcannot reassign member \u001b[39m\u001b[38;5;132;01m%r\u001b[39;00m\u001b[38;5;124m'\u001b[39m \u001b[38;5;241m%\u001b[39m (name, ))\n\u001b[0;32m    839\u001b[0m \u001b[38;5;28msuper\u001b[39m()\u001b[38;5;241m.\u001b[39m\u001b[38;5;21m__setattr__\u001b[39m(name, value)\n",
      "\u001b[1;31mAttributeError\u001b[0m: cannot reassign member 'CPC'"
     ]
    }
   ],
   "source": [
    "Parties.CPC = 2 # safe from mutation"
   ]
  },
  {
   "cell_type": "code",
   "execution_count": 26,
   "metadata": {},
   "outputs": [
    {
     "data": {
      "text/plain": [
       "<enum 'Parties'>"
      ]
     },
     "execution_count": 26,
     "metadata": {},
     "output_type": "execute_result"
    }
   ],
   "source": [
    "type(Parties.LPC)"
   ]
  },
  {
   "cell_type": "markdown",
   "metadata": {},
   "source": [
    "### Members"
   ]
  },
  {
   "cell_type": "code",
   "execution_count": 27,
   "metadata": {},
   "outputs": [],
   "source": [
    "class Parties(Enum):\n",
    "    CPC = \"Conservative Party of Canada\"\n",
    "    LPC = \"Liberal Party of Canada\"\n",
    "    BQ = \"Bloc Quebeqois\"\n",
    "    NDP = \"New Democratic Party\"\n",
    "    GBP = \"Green Party of Canada\""
   ]
  },
  {
   "cell_type": "code",
   "execution_count": 28,
   "metadata": {},
   "outputs": [
    {
     "data": {
      "text/plain": [
       "['CPC', 'LPC', 'BQ', 'NDP', 'GBP']"
      ]
     },
     "execution_count": 28,
     "metadata": {},
     "output_type": "execute_result"
    }
   ],
   "source": [
    "Parties._member_names_ # members of enum"
   ]
  },
  {
   "cell_type": "code",
   "execution_count": 29,
   "metadata": {},
   "outputs": [
    {
     "data": {
      "text/plain": [
       "mappingproxy({'CPC': <Parties.CPC: 'Conservative Party of Canada'>,\n",
       "              'LPC': <Parties.LPC: 'Liberal Party of Canada'>,\n",
       "              'BQ': <Parties.BQ: 'Bloc Quebeqois'>,\n",
       "              'NDP': <Parties.NDP: 'New Democratic Party'>,\n",
       "              'GBP': <Parties.GBP: 'Green Party of Canada'>})"
      ]
     },
     "execution_count": 29,
     "metadata": {},
     "output_type": "execute_result"
    }
   ],
   "source": [
    "Parties.__members__"
   ]
  },
  {
   "cell_type": "code",
   "execution_count": 30,
   "metadata": {},
   "outputs": [
    {
     "data": {
      "text/plain": [
       "<Parties.CPC: 'Conservative Party of Canada'>"
      ]
     },
     "execution_count": 30,
     "metadata": {},
     "output_type": "execute_result"
    }
   ],
   "source": []
  },
  {
   "cell_type": "code",
   "execution_count": 36,
   "metadata": {},
   "outputs": [
    {
     "name": "stdout",
     "output_type": "stream",
     "text": [
      "Parties.CPC\n"
     ]
    }
   ],
   "source": [
    "print(Parties.CPC) # str method"
   ]
  },
  {
   "cell_type": "code",
   "execution_count": 37,
   "metadata": {},
   "outputs": [
    {
     "data": {
      "text/plain": [
       "<Parties.CPC: 'Conservative Party of Canada'>"
      ]
     },
     "execution_count": 37,
     "metadata": {},
     "output_type": "execute_result"
    }
   ],
   "source": [
    "Parties('Conservative Party of Canada')"
   ]
  },
  {
   "cell_type": "code",
   "execution_count": 38,
   "metadata": {},
   "outputs": [
    {
     "data": {
      "text/plain": [
       "True"
      ]
     },
     "execution_count": 38,
     "metadata": {},
     "output_type": "execute_result"
    }
   ],
   "source": [
    "Parties.CPC is Parties('Conservative Party of Canada')"
   ]
  },
  {
   "cell_type": "code",
   "execution_count": 39,
   "metadata": {},
   "outputs": [
    {
     "data": {
      "text/plain": [
       "<Parties.CPC: 'Conservative Party of Canada'>"
      ]
     },
     "execution_count": 39,
     "metadata": {},
     "output_type": "execute_result"
    }
   ],
   "source": [
    "Parties.CPC # enum as well as instance of the class"
   ]
  },
  {
   "cell_type": "code",
   "execution_count": 40,
   "metadata": {},
   "outputs": [
    {
     "data": {
      "text/plain": [
       "True"
      ]
     },
     "execution_count": 40,
     "metadata": {},
     "output_type": "execute_result"
    }
   ],
   "source": [
    "isinstance(Parties.CPC, Parties)"
   ]
  },
  {
   "cell_type": "code",
   "execution_count": 41,
   "metadata": {},
   "outputs": [],
   "source": [
    "class RegularParties:\n",
    "    CPC = \"Conservative Party of Canada\"\n",
    "    LPC = \"Liberal Party of Canada\"\n",
    "    BQ = \"Bloc Quebeqois\"\n",
    "    NDP = \"New Democratic Party\"\n",
    "    GBP = \"Green Party of Canada\""
   ]
  },
  {
   "cell_type": "code",
   "execution_count": 42,
   "metadata": {},
   "outputs": [
    {
     "data": {
      "text/plain": [
       "'Conservative Party of Canada'"
      ]
     },
     "execution_count": 42,
     "metadata": {},
     "output_type": "execute_result"
    }
   ],
   "source": [
    "RegularParties.CPC"
   ]
  },
  {
   "cell_type": "code",
   "execution_count": 43,
   "metadata": {},
   "outputs": [
    {
     "data": {
      "text/plain": [
       "False"
      ]
     },
     "execution_count": 43,
     "metadata": {},
     "output_type": "execute_result"
    }
   ],
   "source": [
    "isinstance(RegularParties.CPC, Parties) # not true of regular classes"
   ]
  },
  {
   "cell_type": "markdown",
   "metadata": {},
   "source": [
    "### Aliases vs Masters"
   ]
  },
  {
   "cell_type": "code",
   "execution_count": 2,
   "metadata": {},
   "outputs": [],
   "source": [
    "from enum import Enum"
   ]
  },
  {
   "cell_type": "code",
   "execution_count": 3,
   "metadata": {},
   "outputs": [],
   "source": [
    "class Parties(Enum):\n",
    "    CPC = \"Conservative Party of Canada\" # member (Master)\n",
    "    CPaC = \"Conservative Party of Canada\" # alias\n",
    "    LPC = \"Liberal Party of Canada\" \n",
    "    BQ = \"Bloc Quebeqois\"\n",
    "    NDP = \"New Democratic Party\"\n",
    "    GBP = \"Green Party of Canada\""
   ]
  },
  {
   "cell_type": "code",
   "execution_count": 5,
   "metadata": {},
   "outputs": [
    {
     "data": {
      "text/plain": [
       "<Parties.CPC: 'Conservative Party of Canada'>"
      ]
     },
     "execution_count": 5,
     "metadata": {},
     "output_type": "execute_result"
    }
   ],
   "source": [
    "Parties(\"Conservative Party of Canada\") # always master member will be given"
   ]
  },
  {
   "cell_type": "code",
   "execution_count": 6,
   "metadata": {},
   "outputs": [
    {
     "data": {
      "text/plain": [
       "mappingproxy({'CPC': <Parties.CPC: 'Conservative Party of Canada'>,\n",
       "              'CPaC': <Parties.CPC: 'Conservative Party of Canada'>,\n",
       "              'LPC': <Parties.LPC: 'Liberal Party of Canada'>,\n",
       "              'BQ': <Parties.BQ: 'Bloc Quebeqois'>,\n",
       "              'NDP': <Parties.NDP: 'New Democratic Party'>,\n",
       "              'GBP': <Parties.GBP: 'Green Party of Canada'>})"
      ]
     },
     "execution_count": 6,
     "metadata": {},
     "output_type": "execute_result"
    }
   ],
   "source": [
    "Parties.__members__"
   ]
  },
  {
   "cell_type": "code",
   "execution_count": 7,
   "metadata": {},
   "outputs": [
    {
     "data": {
      "text/plain": [
       "['CPC', 'LPC', 'BQ', 'NDP', 'GBP']"
      ]
     },
     "execution_count": 7,
     "metadata": {},
     "output_type": "execute_result"
    }
   ],
   "source": [
    "Parties._member_names_ # alias is not present in members"
   ]
  },
  {
   "cell_type": "code",
   "execution_count": 8,
   "metadata": {},
   "outputs": [
    {
     "data": {
      "text/plain": [
       "{'Conservative Party of Canada': <Parties.CPC: 'Conservative Party of Canada'>,\n",
       " 'Liberal Party of Canada': <Parties.LPC: 'Liberal Party of Canada'>,\n",
       " 'Bloc Quebeqois': <Parties.BQ: 'Bloc Quebeqois'>,\n",
       " 'New Democratic Party': <Parties.NDP: 'New Democratic Party'>,\n",
       " 'Green Party of Canada': <Parties.GBP: 'Green Party of Canada'>}"
      ]
     },
     "execution_count": 8,
     "metadata": {},
     "output_type": "execute_result"
    }
   ],
   "source": [
    "Parties._value2member_map_"
   ]
  },
  {
   "cell_type": "markdown",
   "metadata": {},
   "source": [
    "### Uniqueness"
   ]
  },
  {
   "cell_type": "code",
   "execution_count": 9,
   "metadata": {},
   "outputs": [],
   "source": [
    "from enum import unique"
   ]
  },
  {
   "cell_type": "code",
   "execution_count": 10,
   "metadata": {},
   "outputs": [
    {
     "ename": "ValueError",
     "evalue": "duplicate values found in <enum 'Parties'>: CPaC -> CPC",
     "output_type": "error",
     "traceback": [
      "\u001b[1;31m---------------------------------------------------------------------------\u001b[0m",
      "\u001b[1;31mValueError\u001b[0m                                Traceback (most recent call last)",
      "Cell \u001b[1;32mIn[10], line 1\u001b[0m\n\u001b[1;32m----> 1\u001b[0m \u001b[38;5;129;43m@unique\u001b[39;49m\n\u001b[0;32m      2\u001b[0m \u001b[38;5;28;43;01mclass\u001b[39;49;00m\u001b[43m \u001b[49m\u001b[38;5;21;43;01mParties\u001b[39;49;00m\u001b[43m(\u001b[49m\u001b[43mEnum\u001b[49m\u001b[43m)\u001b[49m\u001b[43m:\u001b[49m\n\u001b[0;32m      3\u001b[0m \u001b[43m    \u001b[49m\u001b[43mCPC\u001b[49m\u001b[43m \u001b[49m\u001b[38;5;241;43m=\u001b[39;49m\u001b[43m \u001b[49m\u001b[38;5;124;43m\"\u001b[39;49m\u001b[38;5;124;43mConservative Party of Canada\u001b[39;49m\u001b[38;5;124;43m\"\u001b[39;49m\u001b[43m \u001b[49m\u001b[38;5;66;43;03m# Master\u001b[39;49;00m\n\u001b[0;32m      4\u001b[0m \u001b[43m    \u001b[49m\u001b[43mCPaC\u001b[49m\u001b[43m \u001b[49m\u001b[38;5;241;43m=\u001b[39;49m\u001b[43m \u001b[49m\u001b[38;5;124;43m\"\u001b[39;49m\u001b[38;5;124;43mConservative Party of Canada\u001b[39;49m\u001b[38;5;124;43m\"\u001b[39;49m\u001b[43m \u001b[49m\u001b[38;5;66;43;03m# alias\u001b[39;49;00m\n",
      "File \u001b[1;32mc:\\Users\\smrut\\AppData\\Local\\Programs\\Python\\Python311\\Lib\\enum.py:1586\u001b[0m, in \u001b[0;36munique\u001b[1;34m(enumeration)\u001b[0m\n\u001b[0;32m   1583\u001b[0m \u001b[38;5;28;01mif\u001b[39;00m duplicates:\n\u001b[0;32m   1584\u001b[0m     alias_details \u001b[38;5;241m=\u001b[39m \u001b[38;5;124m'\u001b[39m\u001b[38;5;124m, \u001b[39m\u001b[38;5;124m'\u001b[39m\u001b[38;5;241m.\u001b[39mjoin(\n\u001b[0;32m   1585\u001b[0m             [\u001b[38;5;124m\"\u001b[39m\u001b[38;5;132;01m%s\u001b[39;00m\u001b[38;5;124m -> \u001b[39m\u001b[38;5;132;01m%s\u001b[39;00m\u001b[38;5;124m\"\u001b[39m \u001b[38;5;241m%\u001b[39m (alias, name) \u001b[38;5;28;01mfor\u001b[39;00m (alias, name) \u001b[38;5;129;01min\u001b[39;00m duplicates])\n\u001b[1;32m-> 1586\u001b[0m     \u001b[38;5;28;01mraise\u001b[39;00m \u001b[38;5;167;01mValueError\u001b[39;00m(\u001b[38;5;124m'\u001b[39m\u001b[38;5;124mduplicate values found in \u001b[39m\u001b[38;5;132;01m%r\u001b[39;00m\u001b[38;5;124m: \u001b[39m\u001b[38;5;132;01m%s\u001b[39;00m\u001b[38;5;124m'\u001b[39m \u001b[38;5;241m%\u001b[39m\n\u001b[0;32m   1587\u001b[0m             (enumeration, alias_details))\n\u001b[0;32m   1588\u001b[0m \u001b[38;5;28;01mreturn\u001b[39;00m enumeration\n",
      "\u001b[1;31mValueError\u001b[0m: duplicate values found in <enum 'Parties'>: CPaC -> CPC"
     ]
    }
   ],
   "source": [
    "@unique\n",
    "class Parties(Enum):\n",
    "    CPC = \"Conservative Party of Canada\" # Master\n",
    "    CPaC = \"Conservative Party of Canada\" # alias\n",
    "    LPC = \"Liberal Party of Canada\" \n",
    "    BQ = \"Bloc Quebeqois\"\n",
    "    NDP = \"New Democratic Party\"\n",
    "    GBP = \"Green Party of Canada\""
   ]
  },
  {
   "cell_type": "code",
   "execution_count": null,
   "metadata": {},
   "outputs": [],
   "source": [
    "# @unique check __members__ attribute to verify if alias is present or not. if there then give error."
   ]
  },
  {
   "cell_type": "markdown",
   "metadata": {},
   "source": [
    "### Alternate Syntax for enum"
   ]
  },
  {
   "cell_type": "code",
   "execution_count": 11,
   "metadata": {},
   "outputs": [],
   "source": [
    "class Parties(Enum):\n",
    "    CPC = \"Conservative Party of Canada\" # Master\n",
    "    CPaC = \"Conservative Party of Canada\" # alias\n",
    "    LPC = \"Liberal Party of Canada\" \n",
    "    BQ = \"Bloc Quebeqois\"\n",
    "    NDP = \"New Democratic Party\"\n",
    "    GBP = \"Green Party of Canada\""
   ]
  },
  {
   "cell_type": "code",
   "execution_count": 19,
   "metadata": {},
   "outputs": [
    {
     "data": {
      "text/plain": [
       "<enum 'Parties'>"
      ]
     },
     "execution_count": 19,
     "metadata": {},
     "output_type": "execute_result"
    }
   ],
   "source": [
    "Enum(\"Parties\", [\"CPC\", \"LPC\", \"BQ\", \"NDP\", \"GPC\"]) # way2 (Functional approach)"
   ]
  },
  {
   "cell_type": "code",
   "execution_count": 22,
   "metadata": {},
   "outputs": [],
   "source": [
    "Parties = Enum(\"Parties\", \"CPC LPC BQ NDP GPC\") # way3"
   ]
  },
  {
   "cell_type": "code",
   "execution_count": 24,
   "metadata": {},
   "outputs": [
    {
     "data": {
      "text/plain": [
       "(<Parties.CPC: 1>, <Parties.LPC: 2>, <Parties.BQ: 3>)"
      ]
     },
     "execution_count": 24,
     "metadata": {},
     "output_type": "execute_result"
    }
   ],
   "source": [
    "Parties.CPC, Parties.LPC, Parties.BQ # default values 1, 2, 3"
   ]
  },
  {
   "cell_type": "code",
   "execution_count": 28,
   "metadata": {},
   "outputs": [],
   "source": [
    "Parties = Enum(\"Parties\", [(\"CPC\", \"Conservative Party\"), (\"LPC\", \"Liberal Party\")]) # we can also use dicts instead of tuples"
   ]
  },
  {
   "cell_type": "code",
   "execution_count": 29,
   "metadata": {},
   "outputs": [
    {
     "data": {
      "text/plain": [
       "<Parties.CPC: 'Conservative Party'>"
      ]
     },
     "execution_count": 29,
     "metadata": {},
     "output_type": "execute_result"
    }
   ],
   "source": [
    "Parties.CPC"
   ]
  },
  {
   "cell_type": "markdown",
   "metadata": {},
   "source": [
    "### Automatic values"
   ]
  },
  {
   "cell_type": "code",
   "execution_count": 2,
   "metadata": {},
   "outputs": [],
   "source": [
    "from enum import Enum"
   ]
  },
  {
   "cell_type": "code",
   "execution_count": 6,
   "metadata": {},
   "outputs": [
    {
     "ename": "NameError",
     "evalue": "name 'CPC' is not defined",
     "output_type": "error",
     "traceback": [
      "\u001b[1;31m---------------------------------------------------------------------------\u001b[0m",
      "\u001b[1;31mNameError\u001b[0m                                 Traceback (most recent call last)",
      "Cell \u001b[1;32mIn[6], line 1\u001b[0m\n\u001b[1;32m----> 1\u001b[0m \u001b[38;5;28;43;01mclass\u001b[39;49;00m\u001b[43m \u001b[49m\u001b[38;5;21;43;01mParties\u001b[39;49;00m\u001b[43m(\u001b[49m\u001b[43mEnum\u001b[49m\u001b[43m)\u001b[49m\u001b[43m:\u001b[49m\n\u001b[0;32m      2\u001b[0m \u001b[43m    \u001b[49m\u001b[43mCPC\u001b[49m\u001b[43m \u001b[49m\n\u001b[0;32m      3\u001b[0m \u001b[43m    \u001b[49m\u001b[43mCPaC\u001b[49m\n",
      "Cell \u001b[1;32mIn[6], line 2\u001b[0m, in \u001b[0;36mParties\u001b[1;34m()\u001b[0m\n\u001b[0;32m      1\u001b[0m \u001b[38;5;28;01mclass\u001b[39;00m \u001b[38;5;21;01mParties\u001b[39;00m(Enum):\n\u001b[1;32m----> 2\u001b[0m     \u001b[43mCPC\u001b[49m \n\u001b[0;32m      3\u001b[0m     CPaC\n\u001b[0;32m      4\u001b[0m     LPC \n",
      "\u001b[1;31mNameError\u001b[0m: name 'CPC' is not defined"
     ]
    }
   ],
   "source": [
    "class Parties(Enum):\n",
    "    CPC \n",
    "    CPaC\n",
    "    LPC \n",
    "    BQ \n",
    "    NDP\n",
    "    GBP"
   ]
  },
  {
   "cell_type": "code",
   "execution_count": 5,
   "metadata": {},
   "outputs": [],
   "source": [
    "class Parties(Enum):\n",
    "    CPC = object()\n",
    "    CPaC = object()\n",
    "    LPC = object()\n",
    "    BQ = object()\n",
    "    NDP = object()\n",
    "    GBP = object()"
   ]
  },
  {
   "cell_type": "code",
   "execution_count": 9,
   "metadata": {},
   "outputs": [
    {
     "data": {
      "text/plain": [
       "<Parties.CPC: <object object at 0x0000015B260CA390>>"
      ]
     },
     "execution_count": 9,
     "metadata": {},
     "output_type": "execute_result"
    }
   ],
   "source": [
    "Parties.CPC"
   ]
  },
  {
   "cell_type": "code",
   "execution_count": 10,
   "metadata": {},
   "outputs": [],
   "source": [
    "from enum import auto"
   ]
  },
  {
   "cell_type": "code",
   "execution_count": 11,
   "metadata": {},
   "outputs": [],
   "source": [
    "class Parties(Enum):\n",
    "    CPC = auto()\n",
    "    CPaC = auto()\n",
    "    LPC = auto()\n",
    "    BQ = auto()\n",
    "    NDP = auto()\n",
    "    GBP = auto()"
   ]
  },
  {
   "cell_type": "code",
   "execution_count": 12,
   "metadata": {},
   "outputs": [
    {
     "data": {
      "text/plain": [
       "(<Parties.CPC: 1>, <Parties.CPaC: 2>)"
      ]
     },
     "execution_count": 12,
     "metadata": {},
     "output_type": "execute_result"
    }
   ],
   "source": [
    "Parties.CPC, Parties.CPaC"
   ]
  },
  {
   "cell_type": "code",
   "execution_count": 13,
   "metadata": {},
   "outputs": [
    {
     "data": {
      "text/plain": [
       "mappingproxy({'CPC': <Parties.CPC: 1>,\n",
       "              'CPaC': <Parties.CPaC: 2>,\n",
       "              'LPC': <Parties.LPC: 3>,\n",
       "              'BQ': <Parties.BQ: 4>,\n",
       "              'NDP': <Parties.NDP: 5>,\n",
       "              'GBP': <Parties.GBP: 6>})"
      ]
     },
     "execution_count": 13,
     "metadata": {},
     "output_type": "execute_result"
    }
   ],
   "source": [
    "Parties.__members__"
   ]
  },
  {
   "cell_type": "code",
   "execution_count": 20,
   "metadata": {},
   "outputs": [
    {
     "name": "stderr",
     "output_type": "stream",
     "text": [
      "C:\\Users\\smrut\\AppData\\Local\\Temp\\ipykernel_17652\\2498139008.py:3: DeprecationWarning: In 3.13 the default `auto()`/`_generate_next_value_` will require all values to be sortable and support adding +1\n",
      "and the value returned will be the largest value in the enum incremented by 1\n",
      "  CPaC = auto() # master\n"
     ]
    }
   ],
   "source": [
    "class Parties(Enum):\n",
    "    CPC = object()\n",
    "    CPaC = auto() # master\n",
    "    LPC = \"The block\"\n",
    "    BQ = 1 # aliasing CPaC\n",
    "    NDP = 2\n",
    "    GBP = 3"
   ]
  },
  {
   "cell_type": "code",
   "execution_count": 21,
   "metadata": {},
   "outputs": [
    {
     "data": {
      "text/plain": [
       "mappingproxy({'CPC': <Parties.CPC: <object object at 0x0000015B268D9FF0>>,\n",
       "              'CPaC': <Parties.CPaC: 1>,\n",
       "              'LPC': <Parties.LPC: 'The block'>,\n",
       "              'BQ': <Parties.CPaC: 1>,\n",
       "              'NDP': <Parties.NDP: 2>,\n",
       "              'GBP': <Parties.GBP: 3>})"
      ]
     },
     "execution_count": 21,
     "metadata": {},
     "output_type": "execute_result"
    }
   ],
   "source": [
    "Parties.__members__"
   ]
  },
  {
   "cell_type": "markdown",
   "metadata": {},
   "source": [
    "### Customizing next values"
   ]
  },
  {
   "cell_type": "code",
   "execution_count": 22,
   "metadata": {},
   "outputs": [],
   "source": [
    "class Parties(Enum):\n",
    "    CPC = auto()\n",
    "    LPC = auto()\n",
    "    BQ = auto()\n",
    "    NDP = auto()\n",
    "    GBP = auto()"
   ]
  },
  {
   "cell_type": "code",
   "execution_count": 28,
   "metadata": {},
   "outputs": [],
   "source": [
    "def get_values_for(this_enum): # get list of keys\n",
    "    return list(this_enum._value2member_map_.keys())"
   ]
  },
  {
   "cell_type": "code",
   "execution_count": 29,
   "metadata": {},
   "outputs": [
    {
     "data": {
      "text/plain": [
       "[1, 2, 3, 4, 5]"
      ]
     },
     "execution_count": 29,
     "metadata": {},
     "output_type": "execute_result"
    }
   ],
   "source": [
    "get_values_for(Parties)"
   ]
  },
  {
   "cell_type": "code",
   "execution_count": 36,
   "metadata": {},
   "outputs": [
    {
     "name": "stdout",
     "output_type": "stream",
     "text": [
      "CPC 1 0 []\n",
      "LPC 1 1 [1]\n",
      "BQ 1 2 [1, 2]\n",
      "NDP 1 3 [1, 2, 3]\n",
      "GBP 1 4 [1, 2, 3, 4]\n"
     ]
    }
   ],
   "source": [
    "class Parties(Enum):\n",
    "    def _generate_next_value_(name, start, count, last_values):\n",
    "        print(name, start, count, last_values)\n",
    "        return start + count # default implementation\n",
    "        \n",
    "    CPC = auto()\n",
    "    LPC = auto()\n",
    "    BQ = auto()\n",
    "    NDP = auto()\n",
    "    GBP = auto()"
   ]
  },
  {
   "cell_type": "code",
   "execution_count": 37,
   "metadata": {},
   "outputs": [
    {
     "data": {
      "text/plain": [
       "[1, 2, 3, 4, 5]"
      ]
     },
     "execution_count": 37,
     "metadata": {},
     "output_type": "execute_result"
    }
   ],
   "source": [
    "get_values_for(Parties)"
   ]
  },
  {
   "cell_type": "code",
   "execution_count": 38,
   "metadata": {},
   "outputs": [],
   "source": [
    "class Parties(Enum):\n",
    "    def _generate_next_value_(name, start, count, last_values):\n",
    "        return object()\n",
    "        \n",
    "    CPC = auto()\n",
    "    LPC = auto()\n",
    "    BQ = auto()\n",
    "    NDP = auto()\n",
    "    GBP = auto()"
   ]
  },
  {
   "cell_type": "code",
   "execution_count": 39,
   "metadata": {},
   "outputs": [
    {
     "data": {
      "text/plain": [
       "[<object at 0x15b268da4f0>,\n",
       " <object at 0x15b268da480>,\n",
       " <object at 0x15b268da720>,\n",
       " <object at 0x15b268da5f0>,\n",
       " <object at 0x15b268da770>]"
      ]
     },
     "execution_count": 39,
     "metadata": {},
     "output_type": "execute_result"
    }
   ],
   "source": [
    "get_values_for(Parties)"
   ]
  },
  {
   "cell_type": "code",
   "execution_count": 40,
   "metadata": {},
   "outputs": [],
   "source": [
    "class CandianPoliticalParty:\n",
    "    def __init__(self, name) -> None:\n",
    "        self.name = name \n",
    "    \n",
    "    def __repr__(self) -> str:\n",
    "        return f\"{type(self).__name__}({self.name})\""
   ]
  },
  {
   "cell_type": "code",
   "execution_count": 43,
   "metadata": {},
   "outputs": [],
   "source": [
    "class Parties(Enum):\n",
    "    def _generate_next_value_(name, start, count, last_values): # this will be called by auto so should be overrideen before members\n",
    "        return CandianPoliticalParty(name)\n",
    "        \n",
    "    CPC = auto()\n",
    "    LPC = auto()\n",
    "    BQ = auto()\n",
    "    NDP = auto()\n",
    "    GBP = auto()"
   ]
  },
  {
   "cell_type": "code",
   "execution_count": 44,
   "metadata": {},
   "outputs": [
    {
     "data": {
      "text/plain": [
       "[CandianPoliticalParty(CPC),\n",
       " CandianPoliticalParty(LPC),\n",
       " CandianPoliticalParty(BQ),\n",
       " CandianPoliticalParty(NDP),\n",
       " CandianPoliticalParty(GBP)]"
      ]
     },
     "execution_count": 44,
     "metadata": {},
     "output_type": "execute_result"
    }
   ],
   "source": [
    "get_values_for(Parties)"
   ]
  },
  {
   "cell_type": "markdown",
   "metadata": {},
   "source": [
    "### Extensibility"
   ]
  },
  {
   "cell_type": "code",
   "execution_count": 46,
   "metadata": {},
   "outputs": [],
   "source": [
    "class Parties(Enum):\n",
    "    CPC = auto()\n",
    "    LPC = auto()\n",
    "    BQ = auto()\n",
    "    NDP = auto()\n",
    "    GPC = auto()\n",
    "\n",
    "    @property\n",
    "    def is_left(self):\n",
    "        return self in (Parties.LPC, Parties.NDP)"
   ]
  },
  {
   "cell_type": "code",
   "execution_count": 47,
   "metadata": {},
   "outputs": [
    {
     "data": {
      "text/plain": [
       "False"
      ]
     },
     "execution_count": 47,
     "metadata": {},
     "output_type": "execute_result"
    }
   ],
   "source": [
    "Parties.CPC.is_left"
   ]
  },
  {
   "cell_type": "code",
   "execution_count": 48,
   "metadata": {},
   "outputs": [
    {
     "data": {
      "text/plain": [
       "True"
      ]
     },
     "execution_count": 48,
     "metadata": {},
     "output_type": "execute_result"
    }
   ],
   "source": [
    "Parties.LPC.is_left"
   ]
  },
  {
   "cell_type": "code",
   "execution_count": 49,
   "metadata": {},
   "outputs": [],
   "source": [
    "class Parties(Enum):\n",
    "    CPC = auto()\n",
    "    LPC = auto()\n",
    "    BQ = auto()\n",
    "    NDP = auto()\n",
    "    GPC = auto()\n",
    "\n",
    "    @property\n",
    "    def is_left(self):\n",
    "        return self in (Parties.LPC, Parties.NDP)\n",
    "    \n",
    "    @classmethod\n",
    "    def values(cls):\n",
    "        return [member.value for member in cls]"
   ]
  },
  {
   "cell_type": "code",
   "execution_count": 50,
   "metadata": {},
   "outputs": [
    {
     "data": {
      "text/plain": [
       "[1, 2, 3, 4, 5]"
      ]
     },
     "execution_count": 50,
     "metadata": {},
     "output_type": "execute_result"
    }
   ],
   "source": [
    "Parties.values()"
   ]
  },
  {
   "cell_type": "code",
   "execution_count": 52,
   "metadata": {},
   "outputs": [
    {
     "ename": "TypeError",
     "evalue": "<enum 'ProvincialParty'> cannot extend <enum 'Parties'>",
     "output_type": "error",
     "traceback": [
      "\u001b[1;31m---------------------------------------------------------------------------\u001b[0m",
      "\u001b[1;31mTypeError\u001b[0m                                 Traceback (most recent call last)",
      "Cell \u001b[1;32mIn[52], line 1\u001b[0m\n\u001b[1;32m----> 1\u001b[0m \u001b[38;5;28;43;01mclass\u001b[39;49;00m\u001b[43m \u001b[49m\u001b[38;5;21;43;01mProvincialParty\u001b[39;49;00m\u001b[43m(\u001b[49m\u001b[43mParties\u001b[49m\u001b[43m)\u001b[49m\u001b[43m:\u001b[49m\u001b[43m \u001b[49m\u001b[38;5;66;43;03m# cannot extend enum which has members\u001b[39;49;00m\n\u001b[0;32m      2\u001b[0m \u001b[43m    \u001b[49m\u001b[38;5;28;43;01mpass\u001b[39;49;00m \n",
      "File \u001b[1;32mc:\\Users\\smrut\\AppData\\Local\\Programs\\Python\\Python311\\Lib\\enum.py:487\u001b[0m, in \u001b[0;36mEnumType.__prepare__\u001b[1;34m(metacls, cls, bases, **kwds)\u001b[0m\n\u001b[0;32m    484\u001b[0m \u001b[38;5;129m@classmethod\u001b[39m\n\u001b[0;32m    485\u001b[0m \u001b[38;5;28;01mdef\u001b[39;00m \u001b[38;5;21m__prepare__\u001b[39m(metacls, \u001b[38;5;28mcls\u001b[39m, bases, \u001b[38;5;241m*\u001b[39m\u001b[38;5;241m*\u001b[39mkwds):\n\u001b[0;32m    486\u001b[0m     \u001b[38;5;66;03m# check that previous enum members do not exist\u001b[39;00m\n\u001b[1;32m--> 487\u001b[0m     \u001b[43mmetacls\u001b[49m\u001b[38;5;241;43m.\u001b[39;49m\u001b[43m_check_for_existing_members_\u001b[49m\u001b[43m(\u001b[49m\u001b[38;5;28;43mcls\u001b[39;49m\u001b[43m,\u001b[49m\u001b[43m \u001b[49m\u001b[43mbases\u001b[49m\u001b[43m)\u001b[49m\n\u001b[0;32m    488\u001b[0m     \u001b[38;5;66;03m# create the namespace dict\u001b[39;00m\n\u001b[0;32m    489\u001b[0m     enum_dict \u001b[38;5;241m=\u001b[39m _EnumDict()\n",
      "File \u001b[1;32mc:\\Users\\smrut\\AppData\\Local\\Programs\\Python\\Python311\\Lib\\enum.py:938\u001b[0m, in \u001b[0;36mEnumType._check_for_existing_members_\u001b[1;34m(mcls, class_name, bases)\u001b[0m\n\u001b[0;32m    936\u001b[0m \u001b[38;5;28;01mfor\u001b[39;00m base \u001b[38;5;129;01min\u001b[39;00m chain\u001b[38;5;241m.\u001b[39m\u001b[38;5;18m__mro__\u001b[39m:\n\u001b[0;32m    937\u001b[0m     \u001b[38;5;28;01mif\u001b[39;00m \u001b[38;5;28misinstance\u001b[39m(base, EnumType) \u001b[38;5;129;01mand\u001b[39;00m base\u001b[38;5;241m.\u001b[39m_member_names_:\n\u001b[1;32m--> 938\u001b[0m         \u001b[38;5;28;01mraise\u001b[39;00m \u001b[38;5;167;01mTypeError\u001b[39;00m(\n\u001b[0;32m    939\u001b[0m                 \u001b[38;5;124m\"\u001b[39m\u001b[38;5;124m<enum \u001b[39m\u001b[38;5;132;01m%r\u001b[39;00m\u001b[38;5;124m> cannot extend \u001b[39m\u001b[38;5;132;01m%r\u001b[39;00m\u001b[38;5;124m\"\u001b[39m\n\u001b[0;32m    940\u001b[0m                 \u001b[38;5;241m%\u001b[39m (class_name, base)\n\u001b[0;32m    941\u001b[0m                 )\n",
      "\u001b[1;31mTypeError\u001b[0m: <enum 'ProvincialParty'> cannot extend <enum 'Parties'>"
     ]
    }
   ],
   "source": [
    "class ProvincialParty(Parties): # cannot extend enum which has members\n",
    "    pass "
   ]
  },
  {
   "cell_type": "code",
   "execution_count": 54,
   "metadata": {},
   "outputs": [],
   "source": [
    "class BaseParty(Enum):\n",
    "    @classmethod\n",
    "    def values(cls):\n",
    "        return [member.value for member in cls]\n",
    "    \n",
    "class Parties(BaseParty):\n",
    "    CPC = auto()\n",
    "    LPC = auto()\n",
    "    BQ = auto()\n",
    "    NDP = auto()\n",
    "    GPC = auto()\n",
    "\n",
    "    @property\n",
    "    def is_left(self):\n",
    "        return self in (Parties.LPC, Parties.NDP)"
   ]
  },
  {
   "cell_type": "code",
   "execution_count": 55,
   "metadata": {},
   "outputs": [
    {
     "data": {
      "text/plain": [
       "[1, 2, 3, 4, 5]"
      ]
     },
     "execution_count": 55,
     "metadata": {},
     "output_type": "execute_result"
    }
   ],
   "source": [
    "Parties.values()"
   ]
  },
  {
   "cell_type": "code",
   "execution_count": 56,
   "metadata": {},
   "outputs": [
    {
     "data": {
      "text/plain": [
       "True"
      ]
     },
     "execution_count": 56,
     "metadata": {},
     "output_type": "execute_result"
    }
   ],
   "source": [
    "Parties.LPC.is_left"
   ]
  },
  {
   "cell_type": "markdown",
   "metadata": {},
   "source": [
    "### Flags"
   ]
  },
  {
   "cell_type": "code",
   "execution_count": 57,
   "metadata": {},
   "outputs": [],
   "source": [
    "from enum import Flag"
   ]
  },
  {
   "cell_type": "code",
   "execution_count": 60,
   "metadata": {},
   "outputs": [],
   "source": [
    "class Style(Flag):\n",
    "    ITALIC = auto()\n",
    "    BOLD = auto()\n",
    "    UNDERLINE =  auto()\n",
    "    SUPERSCRIPT = auto()\n",
    "    SUBSCRIPT = auto()"
   ]
  },
  {
   "cell_type": "code",
   "execution_count": 61,
   "metadata": {},
   "outputs": [
    {
     "data": {
      "text/plain": [
       "{1: <Style.ITALIC: 1>,\n",
       " 2: <Style.BOLD: 2>,\n",
       " 4: <Style.UNDERLINE: 4>,\n",
       " 8: <Style.SUPERSCRIPT: 8>,\n",
       " 16: <Style.SUBSCRIPT: 16>}"
      ]
     },
     "execution_count": 61,
     "metadata": {},
     "output_type": "execute_result"
    }
   ],
   "source": [
    "Style._value2member_map_"
   ]
  },
  {
   "cell_type": "code",
   "execution_count": null,
   "metadata": {},
   "outputs": [],
   "source": []
  },
  {
   "cell_type": "markdown",
   "metadata": {},
   "source": [
    "### Bitmasks"
   ]
  },
  {
   "cell_type": "code",
   "execution_count": 62,
   "metadata": {},
   "outputs": [
    {
     "data": {
      "text/plain": [
       "<Style.ITALIC|UNDERLINE: 5>"
      ]
     },
     "execution_count": 62,
     "metadata": {},
     "output_type": "execute_result"
    }
   ],
   "source": [
    "Style.ITALIC | Style.UNDERLINE"
   ]
  },
  {
   "cell_type": "code",
   "execution_count": 63,
   "metadata": {},
   "outputs": [
    {
     "data": {
      "text/plain": [
       "<Style.BOLD|UNDERLINE|SUPERSCRIPT|SUBSCRIPT: 30>"
      ]
     },
     "execution_count": 63,
     "metadata": {},
     "output_type": "execute_result"
    }
   ],
   "source": [
    "~ Style.ITALIC"
   ]
  },
  {
   "cell_type": "code",
   "execution_count": 64,
   "metadata": {},
   "outputs": [],
   "source": [
    "a = Style.ITALIC | Style.UNDERLINE\n",
    "b = Style.UNDERLINE"
   ]
  },
  {
   "cell_type": "code",
   "execution_count": 65,
   "metadata": {},
   "outputs": [
    {
     "data": {
      "text/plain": [
       "<Style.UNDERLINE: 4>"
      ]
     },
     "execution_count": 65,
     "metadata": {},
     "output_type": "execute_result"
    }
   ],
   "source": [
    "a & b"
   ]
  },
  {
   "cell_type": "code",
   "execution_count": 66,
   "metadata": {},
   "outputs": [
    {
     "data": {
      "text/plain": [
       "<Style.ITALIC: 1>"
      ]
     },
     "execution_count": 66,
     "metadata": {},
     "output_type": "execute_result"
    }
   ],
   "source": [
    "a ^ b"
   ]
  },
  {
   "cell_type": "code",
   "execution_count": 67,
   "metadata": {},
   "outputs": [
    {
     "data": {
      "text/plain": [
       "<Style.ITALIC|UNDERLINE: 5>"
      ]
     },
     "execution_count": 67,
     "metadata": {},
     "output_type": "execute_result"
    }
   ],
   "source": [
    "a | b"
   ]
  },
  {
   "cell_type": "code",
   "execution_count": null,
   "metadata": {},
   "outputs": [],
   "source": []
  }
 ],
 "metadata": {
  "kernelspec": {
   "display_name": "Python 3",
   "language": "python",
   "name": "python3"
  },
  "language_info": {
   "codemirror_mode": {
    "name": "ipython",
    "version": 3
   },
   "file_extension": ".py",
   "mimetype": "text/x-python",
   "name": "python",
   "nbconvert_exporter": "python",
   "pygments_lexer": "ipython3",
   "version": "3.11.9"
  }
 },
 "nbformat": 4,
 "nbformat_minor": 2
}
