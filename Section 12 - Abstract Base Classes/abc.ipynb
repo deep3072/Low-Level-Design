{
 "cells": [
  {
   "cell_type": "code",
   "execution_count": null,
   "metadata": {},
   "outputs": [],
   "source": []
  },
  {
   "cell_type": "markdown",
   "metadata": {},
   "source": [
    "### Abstract base classes"
   ]
  },
  {
   "cell_type": "code",
   "execution_count": 1,
   "metadata": {},
   "outputs": [],
   "source": [
    "# Recognize objects?"
   ]
  },
  {
   "cell_type": "code",
   "execution_count": 2,
   "metadata": {},
   "outputs": [],
   "source": [
    "# approach 1: Duck typing\n",
    "\n",
    "class Marlin:\n",
    "    def swin(self):\n",
    "        return \"Swimming right through...\"\n",
    "    \n",
    "    def sleep(self):\n",
    "        return \"zzz\" \n",
    "\n",
    "class Shark:\n",
    "    def swim(self):\n",
    "        return \"Swimming and eating everything in sight...\"\n",
    "    \n",
    "    def sleep(self):\n",
    "        return \"zzz\" "
   ]
  },
  {
   "cell_type": "code",
   "execution_count": 3,
   "metadata": {},
   "outputs": [],
   "source": [
    "# approach 2: inheritance\n",
    "\n",
    "class SeaDweller:\n",
    "    habitat = None \n",
    "    \n",
    "    def swim(self):\n",
    "        return f\"Swimming {self.swim_style}\"\n",
    "    \n",
    "    def sleep(self):\n",
    "        return \"zzz\" \n",
    "    \n",
    "class Marlin(SeaDweller):\n",
    "    swim_style = \"right through....\"    \n",
    "\n",
    "class Shark(SeaDweller):\n",
    "    swim_style = \"and eating everything in sight..\"\n",
    "    "
   ]
  },
  {
   "cell_type": "code",
   "execution_count": 4,
   "metadata": {},
   "outputs": [
    {
     "data": {
      "text/plain": [
       "(True, True)"
      ]
     },
     "execution_count": 4,
     "metadata": {},
     "output_type": "execute_result"
    }
   ],
   "source": [
    "isinstance(Marlin(), SeaDweller), isinstance(Shark(), SeaDweller)"
   ]
  },
  {
   "cell_type": "code",
   "execution_count": 6,
   "metadata": {},
   "outputs": [],
   "source": [
    "# Approach 3: Abstract base classes\n",
    "\n",
    "import abc "
   ]
  },
  {
   "cell_type": "code",
   "execution_count": 9,
   "metadata": {},
   "outputs": [],
   "source": [
    "class SeaDweller(abc.ABC): # ABC\n",
    "    @abc.abstractmethod\n",
    "    def swim(self):\n",
    "        pass\n",
    "    \n",
    "    @abc.abstractmethod\n",
    "    def sleep(self):\n",
    "        pass\n",
    "    \n",
    "    @abc.abstractproperty\n",
    "    def habitat(self):\n",
    "        pass"
   ]
  },
  {
   "cell_type": "code",
   "execution_count": 12,
   "metadata": {},
   "outputs": [],
   "source": [
    "# concrete class\n",
    "class Marlin(SeaDweller):\n",
    "    def swim(self):\n",
    "        return \"swims...\"\n",
    "    \n",
    "    def sleep(self):\n",
    "        return \"zzz\" \n",
    "    \n",
    "    @property\n",
    "    def habitat(self):\n",
    "        return \"water\" "
   ]
  },
  {
   "cell_type": "code",
   "execution_count": 14,
   "metadata": {},
   "outputs": [
    {
     "data": {
      "text/plain": [
       "<__main__.Marlin at 0x1ba159f7290>"
      ]
     },
     "execution_count": 14,
     "metadata": {},
     "output_type": "execute_result"
    }
   ],
   "source": [
    "Marlin()"
   ]
  },
  {
   "cell_type": "code",
   "execution_count": 15,
   "metadata": {},
   "outputs": [
    {
     "data": {
      "text/plain": [
       "True"
      ]
     },
     "execution_count": 15,
     "metadata": {},
     "output_type": "execute_result"
    }
   ],
   "source": [
    "isinstance(Marlin(), SeaDweller)"
   ]
  },
  {
   "cell_type": "markdown",
   "metadata": {},
   "source": [
    "### Standard ABCs lib"
   ]
  },
  {
   "cell_type": "code",
   "execution_count": 16,
   "metadata": {},
   "outputs": [],
   "source": [
    "friends = [\"Andrew\", \"Leo\", \"Lamont\"]"
   ]
  },
  {
   "cell_type": "code",
   "execution_count": 17,
   "metadata": {},
   "outputs": [
    {
     "data": {
      "text/plain": [
       "False"
      ]
     },
     "execution_count": 17,
     "metadata": {},
     "output_type": "execute_result"
    }
   ],
   "source": [
    "\"Andy\" in friends"
   ]
  },
  {
   "cell_type": "code",
   "execution_count": 18,
   "metadata": {},
   "outputs": [
    {
     "data": {
      "text/plain": [
       "True"
      ]
     },
     "execution_count": 18,
     "metadata": {},
     "output_type": "execute_result"
    }
   ],
   "source": [
    "hasattr(friends, '__contains__')"
   ]
  },
  {
   "cell_type": "code",
   "execution_count": 19,
   "metadata": {},
   "outputs": [],
   "source": [
    "from collections.abc import Container # https://docs.python.org/3/library/collections.abc.html"
   ]
  },
  {
   "cell_type": "code",
   "execution_count": 20,
   "metadata": {},
   "outputs": [
    {
     "data": {
      "text/plain": [
       "True"
      ]
     },
     "execution_count": 20,
     "metadata": {},
     "output_type": "execute_result"
    }
   ],
   "source": [
    "isinstance(friends, Container)"
   ]
  },
  {
   "cell_type": "code",
   "execution_count": 21,
   "metadata": {},
   "outputs": [],
   "source": [
    "tickers = {\"GOOGL\", \"AAPL\", \"FB\"}"
   ]
  },
  {
   "cell_type": "code",
   "execution_count": 22,
   "metadata": {},
   "outputs": [
    {
     "data": {
      "text/plain": [
       "True"
      ]
     },
     "execution_count": 22,
     "metadata": {},
     "output_type": "execute_result"
    }
   ],
   "source": [
    "isinstance(tickers, Container)"
   ]
  },
  {
   "cell_type": "code",
   "execution_count": 26,
   "metadata": {},
   "outputs": [],
   "source": [
    "class CircleOfFriends:\n",
    "    def __init__(self, *friends) -> None:\n",
    "        self.friends = [*friends]\n",
    "        \n",
    "    def __contains__(self, item):\n",
    "        return item in self.friends"
   ]
  },
  {
   "cell_type": "code",
   "execution_count": 27,
   "metadata": {},
   "outputs": [
    {
     "data": {
      "text/plain": [
       "True"
      ]
     },
     "execution_count": 27,
     "metadata": {},
     "output_type": "execute_result"
    }
   ],
   "source": [
    "isinstance(CircleOfFriends(), Container) # checks for dunder contains"
   ]
  },
  {
   "cell_type": "code",
   "execution_count": 28,
   "metadata": {},
   "outputs": [
    {
     "data": {
      "text/plain": [
       "True"
      ]
     },
     "execution_count": 28,
     "metadata": {},
     "output_type": "execute_result"
    }
   ],
   "source": [
    "issubclass(CircleOfFriends, Container)"
   ]
  },
  {
   "cell_type": "code",
   "execution_count": 29,
   "metadata": {},
   "outputs": [
    {
     "data": {
      "text/plain": [
       "(__main__.CircleOfFriends, object)"
      ]
     },
     "execution_count": 29,
     "metadata": {},
     "output_type": "execute_result"
    }
   ],
   "source": [
    "CircleOfFriends.__mro__"
   ]
  },
  {
   "cell_type": "code",
   "execution_count": 30,
   "metadata": {},
   "outputs": [],
   "source": [
    "from collections.abc import Collection"
   ]
  },
  {
   "cell_type": "code",
   "execution_count": 31,
   "metadata": {},
   "outputs": [
    {
     "data": {
      "text/plain": [
       "False"
      ]
     },
     "execution_count": 31,
     "metadata": {},
     "output_type": "execute_result"
    }
   ],
   "source": [
    "isinstance(CircleOfFriends(), Collection)"
   ]
  },
  {
   "cell_type": "code",
   "execution_count": 33,
   "metadata": {},
   "outputs": [],
   "source": [
    "class CircleOfFriends:\n",
    "    def __init__(self, *friends) -> None:\n",
    "        self.friends = [*friends]\n",
    "    \n",
    "    def __contains__(self, item): # Collection class requires implementation of this 3 dunders\n",
    "        return item in self.friends\n",
    "    \n",
    "    def __len__(self):\n",
    "        return len(self.friends)\n",
    "    \n",
    "    def __iter__(self):\n",
    "        return iter(self.friends)"
   ]
  },
  {
   "cell_type": "code",
   "execution_count": 34,
   "metadata": {},
   "outputs": [
    {
     "data": {
      "text/plain": [
       "True"
      ]
     },
     "execution_count": 34,
     "metadata": {},
     "output_type": "execute_result"
    }
   ],
   "source": [
    "isinstance(CircleOfFriends(), Collection) # now True"
   ]
  },
  {
   "cell_type": "markdown",
   "metadata": {},
   "source": [
    "### Skill Challenge 15"
   ]
  },
  {
   "cell_type": "code",
   "execution_count": 1,
   "metadata": {},
   "outputs": [],
   "source": [
    "from dataclasses import dataclass\n",
    "from collections.abc import Sequence"
   ]
  },
  {
   "cell_type": "code",
   "execution_count": 2,
   "metadata": {},
   "outputs": [],
   "source": [
    "@dataclass(frozen=True)\n",
    "class JobApplicant:\n",
    "    applicant_id: set\n",
    "    years_experience: int\n",
    "    is_recommended: bool\n",
    "    first_interview_score: float\n",
    "    second_interview_score: float"
   ]
  },
  {
   "cell_type": "code",
   "execution_count": 9,
   "metadata": {},
   "outputs": [],
   "source": [
    "class JobApplicantPool(Sequence):\n",
    "    def __init__(self, *args) -> None:\n",
    "        self._applicants = list(args)\n",
    "    \n",
    "    def __getitem__(self, item):\n",
    "        if type(item) == slice:\n",
    "            return type(self)(*self._applicants[item])\n",
    "        elif type(item) == int:\n",
    "            return self._applicants[item]\n",
    "        \n",
    "        return NotImplemented\n",
    "    \n",
    "    def __len__(self):\n",
    "        return len(self._applicants)\n",
    "    \n",
    "    def add(self, applicant):\n",
    "        self._applicants.append(applicant)"
   ]
  },
  {
   "cell_type": "code",
   "execution_count": 8,
   "metadata": {},
   "outputs": [],
   "source": [
    "jab = JobApplicantPool()"
   ]
  },
  {
   "cell_type": "code",
   "execution_count": null,
   "metadata": {},
   "outputs": [],
   "source": []
  }
 ],
 "metadata": {
  "kernelspec": {
   "display_name": "Python 3",
   "language": "python",
   "name": "python3"
  },
  "language_info": {
   "codemirror_mode": {
    "name": "ipython",
    "version": 3
   },
   "file_extension": ".py",
   "mimetype": "text/x-python",
   "name": "python",
   "nbconvert_exporter": "python",
   "pygments_lexer": "ipython3",
   "version": "3.11.9"
  }
 },
 "nbformat": 4,
 "nbformat_minor": 2
}
