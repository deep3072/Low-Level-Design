{
 "cells": [
  {
   "cell_type": "code",
   "execution_count": 1,
   "metadata": {},
   "outputs": [],
   "source": [
    "class Person:\n",
    "    pass\n",
    "\n",
    "class Citizen:\n",
    "    pass\n",
    "\n",
    "class Employee(Person, Citizen):\n",
    "    pass"
   ]
  },
  {
   "cell_type": "markdown",
   "metadata": {},
   "source": [
    "### Behavior sharing just as single inheritance"
   ]
  },
  {
   "cell_type": "code",
   "execution_count": 6,
   "metadata": {},
   "outputs": [],
   "source": [
    "class Person:\n",
    "    def speak_freely(self):\n",
    "        return \"Spekaing my mind..\"\n",
    "\n",
    "class Citizen:\n",
    "    def vote(self):\n",
    "        return \"Voting..\" \n",
    "\n",
    "class Employee(Person, Citizen):\n",
    "    def speak_freely(self):\n",
    "        return \"Employee Spekaing freely..\""
   ]
  },
  {
   "cell_type": "code",
   "execution_count": 7,
   "metadata": {},
   "outputs": [
    {
     "data": {
      "text/plain": [
       "'Voting..'"
      ]
     },
     "execution_count": 7,
     "metadata": {},
     "output_type": "execute_result"
    }
   ],
   "source": [
    "Employee().vote()"
   ]
  },
  {
   "cell_type": "code",
   "execution_count": 8,
   "metadata": {},
   "outputs": [
    {
     "data": {
      "text/plain": [
       "'Employee Spekaing freely..'"
      ]
     },
     "execution_count": 8,
     "metadata": {},
     "output_type": "execute_result"
    }
   ],
   "source": [
    "Employee().speak_freely()"
   ]
  },
  {
   "cell_type": "markdown",
   "metadata": {},
   "source": [
    "### Parent __ init __()"
   ]
  },
  {
   "cell_type": "code",
   "execution_count": 1,
   "metadata": {},
   "outputs": [],
   "source": [
    "class Person: # class attributes\n",
    "    NATIONALITY = \"American\"\n",
    "    def speak_freely(self):\n",
    "        return \"Spekaing my mind..\"\n",
    "\n",
    "class Citizen:\n",
    "    NATIONALITY = \"Indian\"\n",
    "    def vote(self):\n",
    "        return \"Voting..\" \n",
    "\n",
    "class Employee(Person, Citizen):\n",
    "    def speak_freely(self):\n",
    "        return \"Employee Spekaing freely..\""
   ]
  },
  {
   "cell_type": "code",
   "execution_count": 2,
   "metadata": {},
   "outputs": [
    {
     "data": {
      "text/plain": [
       "'American'"
      ]
     },
     "execution_count": 2,
     "metadata": {},
     "output_type": "execute_result"
    }
   ],
   "source": [
    "Employee().NATIONALITY"
   ]
  },
  {
   "cell_type": "code",
   "execution_count": 3,
   "metadata": {},
   "outputs": [
    {
     "data": {
      "text/plain": [
       "(__main__.Employee, __main__.Person, __main__.Citizen, object)"
      ]
     },
     "execution_count": 3,
     "metadata": {},
     "output_type": "execute_result"
    }
   ],
   "source": [
    "Employee.__mro__"
   ]
  },
  {
   "cell_type": "code",
   "execution_count": 7,
   "metadata": {},
   "outputs": [],
   "source": [
    "class Person: # instance attributes\n",
    "    def __init__(self, languages_spoken) -> None:\n",
    "        self.languages_spoken = languages_spoken\n",
    "    \n",
    "    def speak_freely(self):\n",
    "        return \"Spekaing my mind..\"\n",
    "\n",
    "class Citizen:\n",
    "    def __init__(self, nationality) -> None:\n",
    "        self.nationality = nationality\n",
    "        \n",
    "    def vote(self):\n",
    "        return \"Voting..\" \n",
    "\n",
    "class Employee(Person, Citizen):\n",
    "    def __init__(self, occupation, languages_spoken, nationality) -> None:\n",
    "        self.occupation = occupation\n",
    "        Person.__init__(self, languages_spoken)\n",
    "        Citizen.__init__(self, nationality)\n",
    "        \n",
    "    def speak_freely(self):\n",
    "        return \"Employee Spekaing freely..\""
   ]
  },
  {
   "cell_type": "code",
   "execution_count": 9,
   "metadata": {},
   "outputs": [],
   "source": [
    "e = Employee(\"Software Engineer\", \"English\", \"Indian\")"
   ]
  },
  {
   "cell_type": "code",
   "execution_count": 10,
   "metadata": {},
   "outputs": [
    {
     "data": {
      "text/plain": [
       "{'occupation': 'Software Engineer',\n",
       " 'languages_spoken': 'English',\n",
       " 'nationality': 'Indian'}"
      ]
     },
     "execution_count": 10,
     "metadata": {},
     "output_type": "execute_result"
    }
   ],
   "source": [
    "e.__dict__"
   ]
  },
  {
   "cell_type": "markdown",
   "metadata": {},
   "source": [
    "### super() in multiple inheritance"
   ]
  },
  {
   "cell_type": "code",
   "execution_count": 21,
   "metadata": {},
   "outputs": [],
   "source": [
    "class Person: \n",
    "    def __init__(self, languages_spoken) -> None:\n",
    "        self.languages_spoken = languages_spoken\n",
    "        print(\"Person\", super())\n",
    "    \n",
    "    def speak_freely(self):\n",
    "        return \"Spekaing my mind..\"\n",
    "\n",
    "class Citizen:\n",
    "    def __init__(self, nationality) -> None:\n",
    "        self.nationality = nationality\n",
    "        print(\"Citizen\", super())\n",
    "        \n",
    "    def vote(self):\n",
    "        return \"Voting..\" \n",
    "\n",
    "class Employee(Person, Citizen):\n",
    "    def __init__(self, occupation, languages_spoken, nationality) -> None:\n",
    "        self.occupation = occupation\n",
    "        Person.__init__(self, languages_spoken)\n",
    "        Citizen.__init__(self, nationality)\n",
    "        print(\"Emp\", super())\n",
    "        print(\"Emp\", type(super()))\n",
    "        \n",
    "    def speak_freely(self):\n",
    "        return \"Employee Spekaing freely..\""
   ]
  },
  {
   "cell_type": "code",
   "execution_count": 22,
   "metadata": {},
   "outputs": [
    {
     "name": "stdout",
     "output_type": "stream",
     "text": [
      "Person <super: <class 'Person'>, <Employee object>>\n",
      "Citizen <super: <class 'Citizen'>, <Employee object>>\n",
      "Emp <super: <class 'Employee'>, <Employee object>>\n",
      "Emp <class 'super'>\n"
     ]
    }
   ],
   "source": [
    "e = Employee(\"Software Engineer\", \"English\", \"Indian\")"
   ]
  },
  {
   "cell_type": "code",
   "execution_count": 23,
   "metadata": {},
   "outputs": [
    {
     "data": {
      "text/plain": [
       "(__main__.Employee, __main__.Person, __main__.Citizen, object)"
      ]
     },
     "execution_count": 23,
     "metadata": {},
     "output_type": "execute_result"
    }
   ],
   "source": [
    "Employee.__mro__"
   ]
  },
  {
   "cell_type": "code",
   "execution_count": 24,
   "metadata": {},
   "outputs": [],
   "source": [
    "class Person: \n",
    "    def __init__(self, languages_spoken, nationality) -> None:\n",
    "        super().__init__(nationality)\n",
    "        self.languages_spoken = languages_spoken\n",
    "    \n",
    "    def speak_freely(self):\n",
    "        return \"Spekaing my mind..\"\n",
    "\n",
    "class Citizen:\n",
    "    def __init__(self, nationality) -> None:\n",
    "        self.nationality = nationality\n",
    "        \n",
    "    def vote(self):\n",
    "        return \"Voting..\" \n",
    "\n",
    "class Employee(Person, Citizen):\n",
    "    def __init__(self, occupation, languages_spoken, nationality) -> None:\n",
    "        self.occupation = occupation\n",
    "        super().__init__(languages_spoken, nationality)\n",
    "        \n",
    "    def speak_freely(self):\n",
    "        return \"Employee Spekaing freely..\""
   ]
  },
  {
   "cell_type": "code",
   "execution_count": 25,
   "metadata": {},
   "outputs": [],
   "source": [
    "e = Employee(\"Software Engineer\", \"English\", \"Indian\")"
   ]
  },
  {
   "cell_type": "code",
   "execution_count": 26,
   "metadata": {},
   "outputs": [
    {
     "data": {
      "text/plain": [
       "{'occupation': 'Software Engineer',\n",
       " 'nationality': 'Indian',\n",
       " 'languages_spoken': 'English'}"
      ]
     },
     "execution_count": 26,
     "metadata": {},
     "output_type": "execute_result"
    }
   ],
   "source": [
    "e.__dict__"
   ]
  },
  {
   "cell_type": "markdown",
   "metadata": {},
   "source": [
    "### Variadics"
   ]
  },
  {
   "cell_type": "code",
   "execution_count": 28,
   "metadata": {},
   "outputs": [],
   "source": [
    "def fun(name, age=25):\n",
    "    print(name, age)"
   ]
  },
  {
   "cell_type": "code",
   "execution_count": 29,
   "metadata": {},
   "outputs": [
    {
     "name": "stdout",
     "output_type": "stream",
     "text": [
      "Danny 25\n"
     ]
    }
   ],
   "source": [
    "fun(\"Danny\", 25)"
   ]
  },
  {
   "cell_type": "code",
   "execution_count": 30,
   "metadata": {},
   "outputs": [
    {
     "ename": "TypeError",
     "evalue": "fun() got multiple values for argument 'age'",
     "output_type": "error",
     "traceback": [
      "\u001b[1;31m---------------------------------------------------------------------------\u001b[0m",
      "\u001b[1;31mTypeError\u001b[0m                                 Traceback (most recent call last)",
      "Cell \u001b[1;32mIn[30], line 1\u001b[0m\n\u001b[1;32m----> 1\u001b[0m \u001b[43mfun\u001b[49m\u001b[43m(\u001b[49m\u001b[38;5;124;43m\"\u001b[39;49m\u001b[38;5;124;43mDanny\u001b[39;49m\u001b[38;5;124;43m\"\u001b[39;49m\u001b[43m,\u001b[49m\u001b[43m \u001b[49m\u001b[38;5;124;43m\"\u001b[39;49m\u001b[38;5;124;43mbek\u001b[39;49m\u001b[38;5;124;43m\"\u001b[39;49m\u001b[43m,\u001b[49m\u001b[43m \u001b[49m\u001b[43mage\u001b[49m\u001b[38;5;241;43m=\u001b[39;49m\u001b[38;5;241;43m25\u001b[39;49m\u001b[43m)\u001b[49m\n",
      "\u001b[1;31mTypeError\u001b[0m: fun() got multiple values for argument 'age'"
     ]
    }
   ],
   "source": [
    "fun(\"Danny\", \"bek\", age=25)"
   ]
  },
  {
   "cell_type": "code",
   "execution_count": 36,
   "metadata": {},
   "outputs": [],
   "source": [
    "def fun(name, *more, age=25):\n",
    "    print(name, age)\n",
    "    print(f\"Other positional args: {more}\")"
   ]
  },
  {
   "cell_type": "code",
   "execution_count": 37,
   "metadata": {},
   "outputs": [
    {
     "name": "stdout",
     "output_type": "stream",
     "text": [
      "Danny 25\n",
      "Other positional args: ('bek',)\n"
     ]
    }
   ],
   "source": [
    "fun(\"Danny\", \"bek\", age=25)"
   ]
  },
  {
   "cell_type": "code",
   "execution_count": 38,
   "metadata": {},
   "outputs": [],
   "source": [
    "def fun(name, *more, age=25, **even_more):\n",
    "    print(name, age)\n",
    "    print(f\"Other positional args: {more}\")\n",
    "    print(f\"Other keyword args: {even_more}\")"
   ]
  },
  {
   "cell_type": "code",
   "execution_count": 39,
   "metadata": {},
   "outputs": [
    {
     "name": "stdout",
     "output_type": "stream",
     "text": [
      "Danny 25\n",
      "Other positional args: ('bek',)\n",
      "Other keyword args: {'height': '180'}\n"
     ]
    }
   ],
   "source": [
    "fun(\"Danny\", \"bek\", age=25, height=\"180\")"
   ]
  },
  {
   "cell_type": "code",
   "execution_count": 41,
   "metadata": {},
   "outputs": [
    {
     "name": "stdout",
     "output_type": "stream",
     "text": [
      "Danny 25\n",
      "Other positional args: ()\n",
      "Other keyword args: {}\n"
     ]
    }
   ],
   "source": [
    "fun(\"Danny\", age=25)"
   ]
  },
  {
   "cell_type": "code",
   "execution_count": 42,
   "metadata": {},
   "outputs": [],
   "source": [
    "def fun(name, *args, age=25, **kwargs): # standard way\n",
    "    print(name, age)\n",
    "    print(f\"Other positional args: {args}\")\n",
    "    print(f\"Other keyword args: {kwargs}\")"
   ]
  },
  {
   "cell_type": "code",
   "execution_count": 48,
   "metadata": {},
   "outputs": [],
   "source": [
    "class Person: \n",
    "    def __init__(self, languages_spoken, **kwargs) -> None:\n",
    "        print(kwargs)\n",
    "        super().__init__(**kwargs)\n",
    "        self.languages_spoken = languages_spoken\n",
    "    \n",
    "    def speak_freely(self):\n",
    "        return \"Spekaing my mind..\"\n",
    "\n",
    "class Citizen:\n",
    "    def __init__(self, nationality, **kwargs) -> None:\n",
    "        print(kwargs)\n",
    "        self.nationality = nationality\n",
    "        \n",
    "    def vote(self):\n",
    "        return \"Voting..\" \n",
    "\n",
    "class Employee(Person, Citizen):\n",
    "    def __init__(self, occupation, **kwargs) -> None:\n",
    "        print(kwargs)\n",
    "        super().__init__(**kwargs)\n",
    "        self.occupation = occupation\n",
    "        \n",
    "    def speak_freely(self):\n",
    "        return \"Employee Spekaing freely..\""
   ]
  },
  {
   "cell_type": "code",
   "execution_count": 49,
   "metadata": {},
   "outputs": [
    {
     "name": "stdout",
     "output_type": "stream",
     "text": [
      "{'languages_spoken': 'English', 'nationality': 'Indian'}\n",
      "{'nationality': 'Indian'}\n",
      "{}\n"
     ]
    }
   ],
   "source": [
    "e = Employee(occupation=\"Software Engineer\", languages_spoken=\"English\", nationality=\"Indian\")"
   ]
  },
  {
   "cell_type": "code",
   "execution_count": 47,
   "metadata": {},
   "outputs": [
    {
     "data": {
      "text/plain": [
       "{'nationality': 'Indian',\n",
       " 'languages_spoken': 'English',\n",
       " 'occupation': 'Software Engineer'}"
      ]
     },
     "execution_count": 47,
     "metadata": {},
     "output_type": "execute_result"
    }
   ],
   "source": [
    "e.__dict__"
   ]
  },
  {
   "cell_type": "markdown",
   "metadata": {},
   "source": [
    "### Diamond problem"
   ]
  },
  {
   "cell_type": "code",
   "execution_count": 50,
   "metadata": {},
   "outputs": [],
   "source": [
    "class Person:\n",
    "    def speak_freely(self):\n",
    "        return \"speaking\"\n",
    "    \n",
    "class Developer(Person):\n",
    "    def speak_freely(self):\n",
    "        return \"speaking in code\"\n",
    "    \n",
    "class Citizen(Person):\n",
    "    def speak_freely(self):\n",
    "        return \"speaking in words\"\n",
    "\n",
    "class Employee(Developer, Citizen):\n",
    "    \"\"\"Employee subclass\"\"\""
   ]
  },
  {
   "cell_type": "code",
   "execution_count": 51,
   "metadata": {},
   "outputs": [],
   "source": [
    "e = Employee()"
   ]
  },
  {
   "cell_type": "code",
   "execution_count": 52,
   "metadata": {},
   "outputs": [
    {
     "data": {
      "text/plain": [
       "(__main__.Employee,\n",
       " __main__.Developer,\n",
       " __main__.Citizen,\n",
       " __main__.Person,\n",
       " object)"
      ]
     },
     "execution_count": 52,
     "metadata": {},
     "output_type": "execute_result"
    }
   ],
   "source": [
    "Employee.__mro__"
   ]
  },
  {
   "cell_type": "code",
   "execution_count": 53,
   "metadata": {},
   "outputs": [
    {
     "data": {
      "text/plain": [
       "'speaking in code'"
      ]
     },
     "execution_count": 53,
     "metadata": {},
     "output_type": "execute_result"
    }
   ],
   "source": [
    "e.speak_freely() "
   ]
  },
  {
   "cell_type": "markdown",
   "metadata": {},
   "source": [
    "### __ mro __ "
   ]
  },
  {
   "cell_type": "code",
   "execution_count": 56,
   "metadata": {},
   "outputs": [
    {
     "data": {
      "text/plain": [
       "(__main__.Developer, __main__.Citizen)"
      ]
     },
     "execution_count": 56,
     "metadata": {},
     "output_type": "execute_result"
    }
   ],
   "source": [
    "Employee.__bases__ # order used by mro "
   ]
  },
  {
   "cell_type": "code",
   "execution_count": 59,
   "metadata": {},
   "outputs": [
    {
     "ename": "TypeError",
     "evalue": "Cannot create a consistent method resolution\norder (MRO) for bases Person, Citizen",
     "output_type": "error",
     "traceback": [
      "\u001b[1;31m---------------------------------------------------------------------------\u001b[0m",
      "\u001b[1;31mTypeError\u001b[0m                                 Traceback (most recent call last)",
      "Cell \u001b[1;32mIn[59], line 18\u001b[0m\n\u001b[0;32m     15\u001b[0m     \u001b[38;5;28;01mdef\u001b[39;00m \u001b[38;5;21mvote\u001b[39m(\u001b[38;5;28mself\u001b[39m):\n\u001b[0;32m     16\u001b[0m         \u001b[38;5;28;01mreturn\u001b[39;00m \u001b[38;5;124m\"\u001b[39m\u001b[38;5;124mVoting..\u001b[39m\u001b[38;5;124m\"\u001b[39m \n\u001b[1;32m---> 18\u001b[0m \u001b[38;5;28;43;01mclass\u001b[39;49;00m\u001b[43m \u001b[49m\u001b[38;5;21;43;01mEmployee\u001b[39;49;00m\u001b[43m(\u001b[49m\u001b[43mPerson\u001b[49m\u001b[43m,\u001b[49m\u001b[43m \u001b[49m\u001b[43mCitizen\u001b[49m\u001b[43m)\u001b[49m\u001b[43m:\u001b[49m\u001b[43m \u001b[49m\u001b[38;5;66;43;03m# break mro rule: Children should be searched before parent class so it should be citizen, Person\u001b[39;49;00m\n\u001b[0;32m     19\u001b[0m \u001b[43m    \u001b[49m\u001b[38;5;28;43;01mdef\u001b[39;49;00m\u001b[43m \u001b[49m\u001b[38;5;21;43m__init__\u001b[39;49m\u001b[43m(\u001b[49m\u001b[38;5;28;43mself\u001b[39;49m\u001b[43m,\u001b[49m\u001b[43m \u001b[49m\u001b[43moccupation\u001b[49m\u001b[43m,\u001b[49m\u001b[43m \u001b[49m\u001b[38;5;241;43m*\u001b[39;49m\u001b[38;5;241;43m*\u001b[39;49m\u001b[43mkwargs\u001b[49m\u001b[43m)\u001b[49m\u001b[43m \u001b[49m\u001b[38;5;241;43m-\u001b[39;49m\u001b[38;5;241;43m>\u001b[39;49m\u001b[43m \u001b[49m\u001b[38;5;28;43;01mNone\u001b[39;49;00m\u001b[43m:\u001b[49m\n\u001b[0;32m     20\u001b[0m \u001b[43m        \u001b[49m\u001b[38;5;28;43mprint\u001b[39;49m\u001b[43m(\u001b[49m\u001b[43mkwargs\u001b[49m\u001b[43m)\u001b[49m\n",
      "\u001b[1;31mTypeError\u001b[0m: Cannot create a consistent method resolution\norder (MRO) for bases Person, Citizen"
     ]
    }
   ],
   "source": [
    "class Person: \n",
    "    def __init__(self, languages_spoken, **kwargs) -> None:\n",
    "        print(kwargs)\n",
    "        super().__init__(**kwargs)\n",
    "        self.languages_spoken = languages_spoken\n",
    "    \n",
    "    def speak_freely(self):\n",
    "        return \"Spekaing my mind..\"\n",
    "\n",
    "class Citizen(Person):\n",
    "    def __init__(self, nationality, **kwargs) -> None:\n",
    "        print(kwargs)\n",
    "        self.nationality = nationality\n",
    "        \n",
    "    def vote(self):\n",
    "        return \"Voting..\" \n",
    "\n",
    "class Employee(Person, Citizen): # break mro rule: Children should be searched before parent class so it should be citizen, Person\n",
    "    def __init__(self, occupation, **kwargs) -> None:\n",
    "        print(kwargs)\n",
    "        super().__init__(**kwargs)\n",
    "        self.occupation = occupation\n",
    "        \n",
    "    def speak_freely(self):\n",
    "        return \"Employee Spekaing freely..\""
   ]
  },
  {
   "cell_type": "markdown",
   "metadata": {},
   "source": [
    "### Mixins"
   ]
  },
  {
   "cell_type": "code",
   "execution_count": 60,
   "metadata": {},
   "outputs": [],
   "source": [
    "class Worker():\n",
    "    def work(self):\n",
    "        return \"Working\""
   ]
  },
  {
   "cell_type": "code",
   "execution_count": 61,
   "metadata": {},
   "outputs": [],
   "source": [
    "class OverachieverMixin():\n",
    "    def work(self):\n",
    "        return f\"{super().work()} with huge accountability\"\n",
    "\n",
    "class CriticalMixin():\n",
    "    def work(self):\n",
    "        return f\"{super().work()} on important things\"\n",
    "    \n",
    "class PartTimeMixin():\n",
    "    def work(self):\n",
    "        return f\"{super().work()} only part time\""
   ]
  },
  {
   "cell_type": "code",
   "execution_count": 62,
   "metadata": {},
   "outputs": [],
   "source": [
    "class PartTimeCriticalWorker(PartTimeMixin, CriticalMixin, Worker):\n",
    "    pass"
   ]
  },
  {
   "cell_type": "code",
   "execution_count": 63,
   "metadata": {},
   "outputs": [
    {
     "data": {
      "text/plain": [
       "'Working on important things only part time'"
      ]
     },
     "execution_count": 63,
     "metadata": {},
     "output_type": "execute_result"
    }
   ],
   "source": [
    "PartTimeCriticalWorker().work()"
   ]
  },
  {
   "cell_type": "code",
   "execution_count": 64,
   "metadata": {},
   "outputs": [],
   "source": [
    "class OverachievingWorker(OverachieverMixin, Worker):\n",
    "    pass"
   ]
  },
  {
   "cell_type": "code",
   "execution_count": 65,
   "metadata": {},
   "outputs": [
    {
     "data": {
      "text/plain": [
       "'Working with huge accountability'"
      ]
     },
     "execution_count": 65,
     "metadata": {},
     "output_type": "execute_result"
    }
   ],
   "source": [
    "OverachievingWorker().work()"
   ]
  },
  {
   "cell_type": "markdown",
   "metadata": {},
   "source": [
    "### Organizing Interfaces"
   ]
  },
  {
   "cell_type": "code",
   "execution_count": 66,
   "metadata": {},
   "outputs": [],
   "source": [
    "from abc import ABC, abstractmethod"
   ]
  },
  {
   "cell_type": "code",
   "execution_count": 67,
   "metadata": {},
   "outputs": [],
   "source": [
    "class Playable(ABC):\n",
    "    @abstractmethod\n",
    "    def play(self):\n",
    "        pass\n",
    "    \n",
    "    @abstractmethod\n",
    "    def pause(self):\n",
    "        pass\n",
    "    \n",
    "    @abstractmethod\n",
    "    def stop(self):\n",
    "        pass\n",
    "    \n",
    "class Replicable(ABC):\n",
    "    \n",
    "    @abstractmethod\n",
    "    def copy(self):\n",
    "        pass\n",
    "\n",
    "class Portable(ABC):\n",
    "    \n",
    "    @abstractmethod\n",
    "    def move(self):\n",
    "        pass\n",
    "    \n",
    "    @abstractmethod\n",
    "    def download(self):\n",
    "        pass\n",
    "    \n",
    "class Likable(ABC):\n",
    "    @abstractmethod\n",
    "    def like(self):\n",
    "        pass"
   ]
  },
  {
   "cell_type": "code",
   "execution_count": 68,
   "metadata": {},
   "outputs": [],
   "source": [
    "class CloudMediaFile(Playable, Likable):\n",
    "    pass"
   ]
  },
  {
   "cell_type": "code",
   "execution_count": 69,
   "metadata": {},
   "outputs": [],
   "source": [
    "class LocalMediaFile(Playable, Portable, Replicable):\n",
    "    pass"
   ]
  },
  {
   "cell_type": "code",
   "execution_count": 70,
   "metadata": {},
   "outputs": [],
   "source": [
    "class SpotifySong(CloudMediaFile):\n",
    "    def play(self):\n",
    "        return \"playing\""
   ]
  },
  {
   "cell_type": "code",
   "execution_count": 71,
   "metadata": {},
   "outputs": [
    {
     "ename": "TypeError",
     "evalue": "Can't instantiate abstract class SpotifySong with abstract methods like, pause, stop",
     "output_type": "error",
     "traceback": [
      "\u001b[1;31m---------------------------------------------------------------------------\u001b[0m",
      "\u001b[1;31mTypeError\u001b[0m                                 Traceback (most recent call last)",
      "Cell \u001b[1;32mIn[71], line 1\u001b[0m\n\u001b[1;32m----> 1\u001b[0m \u001b[43mSpotifySong\u001b[49m\u001b[43m(\u001b[49m\u001b[43m)\u001b[49m\n",
      "\u001b[1;31mTypeError\u001b[0m: Can't instantiate abstract class SpotifySong with abstract methods like, pause, stop"
     ]
    }
   ],
   "source": [
    "SpotifySong()"
   ]
  },
  {
   "cell_type": "code",
   "execution_count": 72,
   "metadata": {},
   "outputs": [],
   "source": [
    "class SpotifySong(CloudMediaFile):\n",
    "    def play(self):\n",
    "        return \"playing\"\n",
    "    \n",
    "    def pause(self):\n",
    "        return \"music pause\"\n",
    "    \n",
    "    def stop(self):\n",
    "        return \"music stopped\"\n",
    "    \n",
    "    def like(self):\n",
    "        return \"music liked\""
   ]
  },
  {
   "cell_type": "code",
   "execution_count": 74,
   "metadata": {},
   "outputs": [],
   "source": [
    "song = SpotifySong()"
   ]
  },
  {
   "cell_type": "code",
   "execution_count": 75,
   "metadata": {},
   "outputs": [
    {
     "data": {
      "text/plain": [
       "'playing'"
      ]
     },
     "execution_count": 75,
     "metadata": {},
     "output_type": "execute_result"
    }
   ],
   "source": [
    "song.play()"
   ]
  },
  {
   "cell_type": "code",
   "execution_count": 76,
   "metadata": {},
   "outputs": [
    {
     "data": {
      "text/plain": [
       "'music pause'"
      ]
     },
     "execution_count": 76,
     "metadata": {},
     "output_type": "execute_result"
    }
   ],
   "source": [
    "song.pause()"
   ]
  },
  {
   "cell_type": "code",
   "execution_count": 77,
   "metadata": {},
   "outputs": [
    {
     "data": {
      "text/plain": [
       "False"
      ]
     },
     "execution_count": 77,
     "metadata": {},
     "output_type": "execute_result"
    }
   ],
   "source": [
    "isinstance(song, Portable)"
   ]
  },
  {
   "cell_type": "code",
   "execution_count": 78,
   "metadata": {},
   "outputs": [
    {
     "data": {
      "text/plain": [
       "True"
      ]
     },
     "execution_count": 78,
     "metadata": {},
     "output_type": "execute_result"
    }
   ],
   "source": [
    "issubclass(SpotifySong, Playable)"
   ]
  },
  {
   "cell_type": "code",
   "execution_count": null,
   "metadata": {},
   "outputs": [],
   "source": []
  }
 ],
 "metadata": {
  "kernelspec": {
   "display_name": "Python 3",
   "language": "python",
   "name": "python3"
  },
  "language_info": {
   "codemirror_mode": {
    "name": "ipython",
    "version": 3
   },
   "file_extension": ".py",
   "mimetype": "text/x-python",
   "name": "python",
   "nbconvert_exporter": "python",
   "pygments_lexer": "ipython3",
   "version": "3.11.9"
  }
 },
 "nbformat": 4,
 "nbformat_minor": 2
}
